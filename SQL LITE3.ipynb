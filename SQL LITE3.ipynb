{
 "cells": [
  {
   "cell_type": "markdown",
   "id": "4d8d3cb9",
   "metadata": {},
   "source": [
    "# SQLITE3"
   ]
  },
  {
   "cell_type": "markdown",
   "id": "ec3b14a5",
   "metadata": {},
   "source": [
    "### What is Database?\n",
    "\n",
    "- Collection of Logically Related tables are known as Database."
   ]
  },
  {
   "cell_type": "markdown",
   "id": "a5edaadf",
   "metadata": {},
   "source": [
    "**IMPORTANT POINTS**\n",
    "\n",
    "- Coulmns are known as attributes or characteristics\n",
    "- Rows are also known as Tuples\n",
    "- Tables: collection of Rows and columns"
   ]
  },
  {
   "cell_type": "markdown",
   "id": "53aec84e",
   "metadata": {},
   "source": [
    "#### WE can interact with Database with the help of SQL (Structured Query Languages)"
   ]
  },
  {
   "cell_type": "markdown",
   "id": "d0e22295",
   "metadata": {},
   "source": [
    "Two Types of **DATABASE:** \n",
    "\n",
    "1. Relational Data-Base: MSSQL, SQLite, MySQL, Oracle\n",
    "2. Non-Relational Data-Base: MogoDB, Cassandra\n",
    "\n",
    "            NOTE: MySQL, MSSQL is open sourse software"
   ]
  },
  {
   "cell_type": "markdown",
   "id": "b97b70ee",
   "metadata": {},
   "source": [
    "SQL is of 3 types:\n",
    "    \n",
    "1. (Data Defination Language)DDL  CREATE, ALTER,DROP\n",
    "2. (Data Manulation Language)DML  SELECT,UPDATE, DELETE\n",
    "3. (Data Control Language)   DCL  COMMIT/ROLLBACK,GRANT/REVOKE"
   ]
  },
  {
   "cell_type": "markdown",
   "id": "f803bbfc",
   "metadata": {},
   "source": [
    "## Practical:"
   ]
  },
  {
   "cell_type": "code",
   "execution_count": 1,
   "id": "06171d48",
   "metadata": {},
   "outputs": [],
   "source": [
    "# import sqlite3\n",
    "import sqlite3"
   ]
  },
  {
   "cell_type": "markdown",
   "id": "c4dfc56e",
   "metadata": {},
   "source": [
    "\n",
    "Steps Working with database using SQL (Structured Query Language)\n",
    "\n",
    "1. Create connection object.\n",
    "2. From connection object, create cursor object.\n",
    "3. Using the Cursor object, call the execute method with create table query as the parameter."
   ]
  },
  {
   "cell_type": "markdown",
   "id": "5ac32ddb",
   "metadata": {},
   "source": [
    "### CREATE DATABASE"
   ]
  },
  {
   "cell_type": "code",
   "execution_count": 2,
   "id": "989aa7fc",
   "metadata": {},
   "outputs": [],
   "source": [
    "# student database will be created in the home page \n",
    "\n",
    "# db is the first connection object\n",
    "db=sqlite3.connect(\"Student_database.db\")"
   ]
  },
  {
   "cell_type": "code",
   "execution_count": 3,
   "id": "87555c58",
   "metadata": {},
   "outputs": [],
   "source": [
    "# student database will be created in the other location\n",
    "\n",
    "# db is the first connection object\n",
    "#db=sqlite3.connect(\"E:/Test/Student_database.db\")"
   ]
  },
  {
   "cell_type": "markdown",
   "id": "61ee5c20",
   "metadata": {},
   "source": [
    "Cursor:\n",
    "\n",
    "A cursor in SQL is a temporary work area created in system memory when a SQL statement is executed. A SQL cursor is a set of rows together with a pointer that identifies a current row.\n",
    "\n",
    "It is a database object to retrieve data from a result set one row at a time.\n",
    "\n",
    "******To work on the area we need cursor**"
   ]
  },
  {
   "cell_type": "markdown",
   "id": "68451de0",
   "metadata": {},
   "source": [
    "### CREATE CURSOR AREA "
   ]
  },
  {
   "cell_type": "code",
   "execution_count": 4,
   "id": "e6488534",
   "metadata": {},
   "outputs": [],
   "source": [
    "# create cursor object from connection:\n",
    "cur=db.cursor()"
   ]
  },
  {
   "cell_type": "markdown",
   "id": "ba265fe3",
   "metadata": {},
   "source": [
    "**NOTE**\n",
    "\n",
    "Now Database got created and we will procced to create table:"
   ]
  },
  {
   "cell_type": "markdown",
   "id": "2fb81050",
   "metadata": {},
   "source": [
    "SQL DATA TYPES.....\n",
    "\n",
    "- integer: Number \n",
    "- real   : decimal value\n",
    "- text   : unlimited string\n",
    "- char(20): only 20 characters\n",
    "\n",
    "**CONSTRANT**\n",
    "\n",
    "1. *Primary key---->*: Unique, Not null\n",
    "2. *Unique key----->*: Unique, can be Null\n",
    "3. *Not Null------->*: can be duplicated but no blank"
   ]
  },
  {
   "cell_type": "markdown",
   "id": "56748e3f",
   "metadata": {},
   "source": [
    "## CREATE TABLE:"
   ]
  },
  {
   "cell_type": "code",
   "execution_count": 5,
   "id": "8e172d25",
   "metadata": {},
   "outputs": [
    {
     "data": {
      "text/plain": [
       "<sqlite3.Cursor at 0x28b4be53c00>"
      ]
     },
     "execution_count": 5,
     "metadata": {},
     "output_type": "execute_result"
    }
   ],
   "source": [
    "# create table <table_name>(id int primary key,name text,marks int)\n",
    "\n",
    "cur.execute(\"create table student(id int primary key,name text,marks int)\")"
   ]
  },
  {
   "cell_type": "markdown",
   "id": "92b3262f",
   "metadata": {},
   "source": [
    "code is working as its showing the location of the work"
   ]
  },
  {
   "cell_type": "markdown",
   "id": "35500b50",
   "metadata": {},
   "source": [
    "## INSERT into TABLE"
   ]
  },
  {
   "cell_type": "code",
   "execution_count": 6,
   "id": "b4fd8645",
   "metadata": {},
   "outputs": [
    {
     "data": {
      "text/plain": [
       "<sqlite3.Cursor at 0x28b4be53c00>"
      ]
     },
     "execution_count": 6,
     "metadata": {},
     "output_type": "execute_result"
    }
   ],
   "source": [
    "# insert into <table_name> values (1,'Alok',67)\n",
    "cur.execute(\"insert into student values (1,'Alok',67),(2,'Anup',78),(3,'Anu',88),(4,'Anupam',89),(5,'Arnav',93),(6,'Abhijit',97)\")"
   ]
  },
  {
   "cell_type": "markdown",
   "id": "3eb16395",
   "metadata": {},
   "source": [
    "### Checking Row counts"
   ]
  },
  {
   "cell_type": "code",
   "execution_count": 7,
   "id": "eb09db55",
   "metadata": {},
   "outputs": [
    {
     "name": "stdout",
     "output_type": "stream",
     "text": [
      "6 records inserted\n"
     ]
    }
   ],
   "source": [
    "# cur.rowcount will show the number of records inserted\n",
    "\n",
    "print(cur.rowcount,\"records inserted\")"
   ]
  },
  {
   "cell_type": "code",
   "execution_count": 8,
   "id": "1dd0774b",
   "metadata": {},
   "outputs": [],
   "source": [
    "# database name and commit will save the data\n",
    "db.commit()"
   ]
  },
  {
   "cell_type": "code",
   "execution_count": 9,
   "id": "90b0a738",
   "metadata": {},
   "outputs": [
    {
     "data": {
      "text/plain": [
       "[(1, 'Alok', 67),\n",
       " (2, 'Anup', 78),\n",
       " (3, 'Anu', 88),\n",
       " (4, 'Anupam', 89),\n",
       " (5, 'Arnav', 93),\n",
       " (6, 'Abhijit', 97)]"
      ]
     },
     "execution_count": 9,
     "metadata": {},
     "output_type": "execute_result"
    }
   ],
   "source": [
    "# using DML command select \n",
    "cur.execute(\"Select * from student\").fetchall()"
   ]
  },
  {
   "cell_type": "code",
   "execution_count": 10,
   "id": "a26d5cab",
   "metadata": {},
   "outputs": [
    {
     "name": "stdout",
     "output_type": "stream",
     "text": [
      "(1, 'Alok', 67)\n",
      "(2, 'Anup', 78)\n",
      "(3, 'Anu', 88)\n",
      "(4, 'Anupam', 89)\n",
      "(5, 'Arnav', 93)\n",
      "(6, 'Abhijit', 97)\n"
     ]
    }
   ],
   "source": [
    "# Again DML command is used to check all the content and the word is \"SELECT\" \n",
    "result=cur.execute(\"select * from student\")\n",
    "\n",
    "for row in result:\n",
    "    print(row)"
   ]
  },
  {
   "cell_type": "code",
   "execution_count": 11,
   "id": "5a74570f",
   "metadata": {},
   "outputs": [],
   "source": [
    "# Adding more data onto table by using DML command insert\n",
    "cur.execute(\"insert into student values (7,'Ankit',67),(8,'Ankur',87),(9,'Abhishek',69),(10,'Aniket',59)\")\n",
    "\n",
    "# saving the data to database.\n",
    "db.commit()"
   ]
  },
  {
   "cell_type": "code",
   "execution_count": 12,
   "id": "1464e7b4",
   "metadata": {},
   "outputs": [
    {
     "name": "stdout",
     "output_type": "stream",
     "text": [
      "4 Records inserted\n"
     ]
    }
   ],
   "source": [
    "# checking total rows into student table\n",
    "print(cur.rowcount,\"Records inserted\")"
   ]
  },
  {
   "cell_type": "code",
   "execution_count": 13,
   "id": "1ded6179",
   "metadata": {},
   "outputs": [
    {
     "name": "stdout",
     "output_type": "stream",
     "text": [
      "(1, 'Alok', 67)\n",
      "(2, 'Anup', 78)\n",
      "(3, 'Anu', 88)\n",
      "(4, 'Anupam', 89)\n",
      "(5, 'Arnav', 93)\n",
      "(6, 'Abhijit', 97)\n",
      "(7, 'Ankit', 67)\n",
      "(8, 'Ankur', 87)\n",
      "(9, 'Abhishek', 69)\n",
      "(10, 'Aniket', 59)\n"
     ]
    }
   ],
   "source": [
    "for i in cur.execute(\"Select * from student\"):\n",
    "    print(i)"
   ]
  },
  {
   "cell_type": "code",
   "execution_count": 14,
   "id": "fd89ae66",
   "metadata": {},
   "outputs": [],
   "source": [
    "# adding more values using DML command insert\n",
    "\n",
    "# syntax: insert into <table name> values (),().....so on\n",
    "cur.execute(\"Insert into student values (11,'Bikram',82),(12,'Bittu',95),(13,'Bikki',85),(14,'Bhavesh',79),(15,'Binod',82)\")\n",
    "# will save the data into database\n",
    "db.commit()"
   ]
  },
  {
   "cell_type": "code",
   "execution_count": 15,
   "id": "130df79b",
   "metadata": {},
   "outputs": [
    {
     "name": "stdout",
     "output_type": "stream",
     "text": [
      "5 Rows Inserted\n"
     ]
    }
   ],
   "source": [
    "# checking rows inserted into into table\n",
    "print(cur.rowcount,\"Rows Inserted\")"
   ]
  },
  {
   "cell_type": "code",
   "execution_count": 16,
   "id": "4a1549a4",
   "metadata": {},
   "outputs": [
    {
     "data": {
      "text/plain": [
       "[(1, 'Alok', 67),\n",
       " (2, 'Anup', 78),\n",
       " (3, 'Anu', 88),\n",
       " (4, 'Anupam', 89),\n",
       " (5, 'Arnav', 93),\n",
       " (6, 'Abhijit', 97),\n",
       " (7, 'Ankit', 67),\n",
       " (8, 'Ankur', 87),\n",
       " (9, 'Abhishek', 69),\n",
       " (10, 'Aniket', 59),\n",
       " (11, 'Bikram', 82),\n",
       " (12, 'Bittu', 95),\n",
       " (13, 'Bikki', 85),\n",
       " (14, 'Bhavesh', 79),\n",
       " (15, 'Binod', 82)]"
      ]
     },
     "execution_count": 16,
     "metadata": {},
     "output_type": "execute_result"
    }
   ],
   "source": [
    "# checking data using DML tool \"SELECT\"\n",
    "cur.execute(\"Select * from student\").fetchall()"
   ]
  },
  {
   "cell_type": "markdown",
   "id": "c90e3fc8",
   "metadata": {},
   "source": [
    "## SELECT"
   ]
  },
  {
   "cell_type": "code",
   "execution_count": 18,
   "id": "36bec5ee",
   "metadata": {},
   "outputs": [
    {
     "data": {
      "text/plain": [
       "[('Alok',),\n",
       " ('Anup',),\n",
       " ('Anu',),\n",
       " ('Anupam',),\n",
       " ('Arnav',),\n",
       " ('Abhijit',),\n",
       " ('Ankit',),\n",
       " ('Ankur',),\n",
       " ('Abhishek',),\n",
       " ('Aniket',),\n",
       " ('Bikram',),\n",
       " ('Bittu',),\n",
       " ('Bikki',),\n",
       " ('Bhavesh',),\n",
       " ('Binod',)]"
      ]
     },
     "execution_count": 18,
     "metadata": {},
     "output_type": "execute_result"
    }
   ],
   "source": [
    "# will fetch only name\n",
    "# syntax: select <column name>,<column name> from <table name>\n",
    "\n",
    "cur.execute(\"Select name from student\").fetchall()"
   ]
  },
  {
   "cell_type": "code",
   "execution_count": 19,
   "id": "be155214",
   "metadata": {},
   "outputs": [
    {
     "data": {
      "text/plain": [
       "[(1, 'Alok'),\n",
       " (2, 'Anup'),\n",
       " (3, 'Anu'),\n",
       " (4, 'Anupam'),\n",
       " (5, 'Arnav'),\n",
       " (6, 'Abhijit'),\n",
       " (7, 'Ankit'),\n",
       " (8, 'Ankur'),\n",
       " (9, 'Abhishek'),\n",
       " (10, 'Aniket'),\n",
       " (11, 'Bikram'),\n",
       " (12, 'Bittu'),\n",
       " (13, 'Bikki'),\n",
       " (14, 'Bhavesh'),\n",
       " (15, 'Binod')]"
      ]
     },
     "execution_count": 19,
     "metadata": {},
     "output_type": "execute_result"
    }
   ],
   "source": [
    "# syntax: select <cl name>,<cl name> from <table name>\n",
    "cur.execute(\"Select id,name from student\").fetchall()"
   ]
  },
  {
   "cell_type": "code",
   "execution_count": 20,
   "id": "15ac5088",
   "metadata": {},
   "outputs": [
    {
     "data": {
      "text/plain": [
       "[(1, 'Alok', 67),\n",
       " (2, 'Anup', 78),\n",
       " (3, 'Anu', 88),\n",
       " (4, 'Anupam', 89),\n",
       " (5, 'Arnav', 93),\n",
       " (6, 'Abhijit', 97),\n",
       " (7, 'Ankit', 67),\n",
       " (8, 'Ankur', 87),\n",
       " (9, 'Abhishek', 69),\n",
       " (10, 'Aniket', 59),\n",
       " (11, 'Bikram', 82),\n",
       " (12, 'Bittu', 95),\n",
       " (13, 'Bikki', 85),\n",
       " (14, 'Bhavesh', 79),\n",
       " (15, 'Binod', 82)]"
      ]
     },
     "execution_count": 20,
     "metadata": {},
     "output_type": "execute_result"
    }
   ],
   "source": [
    "# syntax: slect <cl name>,<cl name> from <table name>\n",
    "cur.execute(\"select id,name,marks from student\").fetchall()"
   ]
  },
  {
   "cell_type": "code",
   "execution_count": 21,
   "id": "78c3027a",
   "metadata": {},
   "outputs": [
    {
     "data": {
      "text/plain": [
       "<sqlite3.Cursor at 0x28b4be53c00>"
      ]
     },
     "execution_count": 21,
     "metadata": {},
     "output_type": "execute_result"
    }
   ],
   "source": [
    "# creating the new table in student_database\n",
    "cur.execute(\"create table Marks(id int primary key,name varchar(30) not null,subject varchar(20))\")"
   ]
  },
  {
   "cell_type": "code",
   "execution_count": 23,
   "id": "982a7ce4",
   "metadata": {},
   "outputs": [],
   "source": [
    "# Using DML insert command entering the values\n",
    "cur.execute(\"insert into Marks values (1,'Avinash','English'),(2,'Avinav','Maths'),(3,'Anuvab','Science'),(4,'Puneet','Computer Science')\")\n",
    "db.commit()"
   ]
  },
  {
   "cell_type": "code",
   "execution_count": 24,
   "id": "fabe2165",
   "metadata": {},
   "outputs": [
    {
     "name": "stdout",
     "output_type": "stream",
     "text": [
      "4 Rows inserted\n"
     ]
    }
   ],
   "source": [
    "# checking rows inserted\n",
    "print(cur.rowcount,\"Rows inserted\")"
   ]
  },
  {
   "cell_type": "code",
   "execution_count": 25,
   "id": "28855349",
   "metadata": {},
   "outputs": [
    {
     "data": {
      "text/plain": [
       "[(1, 'Avinash', 'English'),\n",
       " (2, 'Avinav', 'Maths'),\n",
       " (3, 'Anuvab', 'Science'),\n",
       " (4, 'Puneet', 'Computer Science')]"
      ]
     },
     "execution_count": 25,
     "metadata": {},
     "output_type": "execute_result"
    }
   ],
   "source": [
    "# fetching all the data from Marks table\n",
    "cur.execute(\"Select * from Marks\").fetchall()"
   ]
  },
  {
   "cell_type": "markdown",
   "id": "6f629e7a",
   "metadata": {},
   "source": [
    "*************"
   ]
  },
  {
   "cell_type": "markdown",
   "id": "d372c847",
   "metadata": {},
   "source": [
    "Day 2...............\n"
   ]
  },
  {
   "cell_type": "code",
   "execution_count": 1,
   "id": "96867919",
   "metadata": {},
   "outputs": [],
   "source": [
    "# importing package sqlite3\n",
    "import sqlite3\n",
    "\n",
    "# connecting with database with connection object\n",
    "db=sqlite3.connect(\"Student_database.db\") # today it will just connect as its already created yesterday...\n",
    "\n",
    "# making the cursor area.\n",
    "cur=db.cursor()"
   ]
  },
  {
   "cell_type": "code",
   "execution_count": 3,
   "id": "dd77f2b3",
   "metadata": {},
   "outputs": [
    {
     "data": {
      "text/plain": [
       "[(1, 'Alok', 67),\n",
       " (2, 'Anup', 78),\n",
       " (3, 'Anu', 88),\n",
       " (4, 'Anupam', 89),\n",
       " (5, 'Arnav', 93),\n",
       " (6, 'Abhijit', 97),\n",
       " (7, 'Ankit', 67),\n",
       " (8, 'Ankur', 87),\n",
       " (9, 'Abhishek', 69),\n",
       " (10, 'Aniket', 59),\n",
       " (11, 'Bikram', 82),\n",
       " (12, 'Bittu', 95),\n",
       " (13, 'Bikki', 85),\n",
       " (14, 'Bhavesh', 79),\n",
       " (15, 'Binod', 82)]"
      ]
     },
     "execution_count": 3,
     "metadata": {},
     "output_type": "execute_result"
    }
   ],
   "source": [
    "cur.execute(\"Select * from student\").fetchall()"
   ]
  },
  {
   "cell_type": "code",
   "execution_count": 11,
   "id": "d381a6de",
   "metadata": {},
   "outputs": [
    {
     "name": "stdout",
     "output_type": "stream",
     "text": [
      "[('Alok', 67), ('Anup', 78), ('Anu', 88), ('Anupam', 89), ('Arnav', 93), ('Abhijit', 97), ('Ankit', 67), ('Ankur', 87), ('Abhishek', 69), ('Aniket', 59), ('Bikram', 82), ('Bittu', 95), ('Bikki', 85), ('Bhavesh', 79), ('Binod', 82)] \n",
      "\n",
      "[('English', 'Avinash'), ('Maths', 'Avinav'), ('Science', 'Anuvab'), ('Computer Science', 'Puneet')]\n"
     ]
    }
   ],
   "source": [
    "print(cur.execute(\"select name,marks from student\").fetchall(),\"\\n\")\n",
    "print(cur.execute(\"select subject,name from marks\").fetchall())"
   ]
  },
  {
   "cell_type": "markdown",
   "id": "0b9a99b0",
   "metadata": {},
   "source": [
    "### Where Clause"
   ]
  },
  {
   "cell_type": "code",
   "execution_count": 14,
   "id": "54874b24",
   "metadata": {},
   "outputs": [
    {
     "data": {
      "text/plain": [
       "[('Alok', 1)]"
      ]
     },
     "execution_count": 14,
     "metadata": {},
     "output_type": "execute_result"
    }
   ],
   "source": [
    "# show table student where id is less than 2\n",
    "\n",
    "result=cur.execute(\"select name,id from student where id<2\")\n",
    "result.fetchall()"
   ]
  },
  {
   "cell_type": "code",
   "execution_count": 16,
   "id": "7498b70a",
   "metadata": {},
   "outputs": [
    {
     "data": {
      "text/plain": [
       "[(8, 'Ankur', 87),\n",
       " (9, 'Abhishek', 69),\n",
       " (10, 'Aniket', 59),\n",
       " (11, 'Bikram', 82),\n",
       " (12, 'Bittu', 95),\n",
       " (13, 'Bikki', 85),\n",
       " (14, 'Bhavesh', 79),\n",
       " (15, 'Binod', 82)]"
      ]
     },
     "execution_count": 16,
     "metadata": {},
     "output_type": "execute_result"
    }
   ],
   "source": [
    "# show table student where id is greater than 7\n",
    "\n",
    "# SYNTEX: SELECT * FROM STUDENT WHERE ID>7\n",
    "cur.execute(\"Select * from student where id>7\").fetchall()"
   ]
  },
  {
   "cell_type": "code",
   "execution_count": 17,
   "id": "96af730c",
   "metadata": {},
   "outputs": [
    {
     "name": "stdout",
     "output_type": "stream",
     "text": [
      "[('Alok',), ('Ankit',), ('Abhishek',), ('Aniket',)]\n"
     ]
    }
   ],
   "source": [
    "# show name from table student where marks less than 70\n",
    "\n",
    "print(cur.execute(\"Select name from student where marks<70\").fetchall())"
   ]
  },
  {
   "cell_type": "markdown",
   "id": "e398c0a7",
   "metadata": {},
   "source": [
    "## LIMIT Clause/Operator\n",
    "\n",
    "- select * from student limit 5"
   ]
  },
  {
   "cell_type": "code",
   "execution_count": 18,
   "id": "330bcd10",
   "metadata": {},
   "outputs": [
    {
     "data": {
      "text/plain": [
       "[('Alok', 67), ('Anup', 78), ('Anu', 88)]"
      ]
     },
     "execution_count": 18,
     "metadata": {},
     "output_type": "execute_result"
    }
   ],
   "source": [
    "# checking top 3 names, marks from student table \n",
    "\n",
    "cur.execute(\"Select name,marks from student limit 3\").fetchall()"
   ]
  },
  {
   "cell_type": "markdown",
   "id": "d5053cd5",
   "metadata": {},
   "source": [
    "#### Checking Top 5"
   ]
  },
  {
   "cell_type": "code",
   "execution_count": 21,
   "id": "1c99eeaa",
   "metadata": {},
   "outputs": [
    {
     "name": "stdout",
     "output_type": "stream",
     "text": [
      "      Top 5\n",
      " [(1, 'Alok', 67), (2, 'Anup', 78), (3, 'Anu', 88), (4, 'Anupam', 89), (5, 'Arnav', 93)]\n"
     ]
    }
   ],
   "source": [
    "# checking top 5 from student\n",
    "\n",
    "print(\"Top 5\\n\",cur.execute(\"Select * from student limit 5\").fetchall())"
   ]
  },
  {
   "cell_type": "markdown",
   "id": "489b9244",
   "metadata": {},
   "source": [
    "### Checking particular data(ROW) from table "
   ]
  },
  {
   "cell_type": "code",
   "execution_count": 25,
   "id": "d671a98d",
   "metadata": {},
   "outputs": [
    {
     "name": "stdout",
     "output_type": "stream",
     "text": [
      "[('Anuvab', 'Science')]\n",
      "[('Anup', 78)]\n",
      "('Alok', 1, 67)\n",
      "('Abhijit', 97)\n"
     ]
    }
   ],
   "source": [
    "print(cur.execute(\"select name,subject from marks where id==3\").fetchall())\n",
    "print(cur.execute(\"Select name,marks from student where id==2\").fetchall())\n",
    "print(cur.execute(\"Select name, id, marks from student where id==1\").fetchone())\n",
    "print(cur.execute(\"Select name,marks from student where name=='Abhijit'\").fetchone())"
   ]
  },
  {
   "cell_type": "markdown",
   "id": "9fc14f67",
   "metadata": {},
   "source": [
    "## Checking by NAME"
   ]
  },
  {
   "cell_type": "code",
   "execution_count": 27,
   "id": "cf7f98f1",
   "metadata": {},
   "outputs": [
    {
     "name": "stdout",
     "output_type": "stream",
     "text": [
      "[(7, 'Ankit', 67)]\n"
     ]
    }
   ],
   "source": [
    "# checking the values where name is Ankit\n",
    "print(cur.execute(\"Select * from student where name=='Ankit'\").fetchall())"
   ]
  },
  {
   "cell_type": "code",
   "execution_count": 28,
   "id": "0e3f5348",
   "metadata": {},
   "outputs": [
    {
     "name": "stdout",
     "output_type": "stream",
     "text": [
      "[('Anuvab',)]\n"
     ]
    }
   ],
   "source": [
    "# check name from marks where subject==\"science\"\n",
    "print(cur.execute(\"Select name from marks where subject=='Science'\").fetchall())"
   ]
  },
  {
   "cell_type": "markdown",
   "id": "74f7f632",
   "metadata": {},
   "source": [
    "### And Operation:\n",
    "\n",
    "You will get the responce when both the values are True"
   ]
  },
  {
   "cell_type": "code",
   "execution_count": 30,
   "id": "61cfce75",
   "metadata": {},
   "outputs": [
    {
     "name": "stdout",
     "output_type": "stream",
     "text": [
      "[(1, 'Alok', 67), (2, 'Anup', 78), (7, 'Ankit', 67), (9, 'Abhishek', 69), (14, 'Bhavesh', 79)]\n"
     ]
    }
   ],
   "source": [
    "# show marks greater than 60 and less than 80\n",
    "print(cur.execute(\"Select * from student where marks>60 and marks<80\").fetchall())"
   ]
  },
  {
   "cell_type": "code",
   "execution_count": 37,
   "id": "ad76a95c",
   "metadata": {},
   "outputs": [
    {
     "name": "stdout",
     "output_type": "stream",
     "text": [
      "[(1, 'Alok', 67)]\n"
     ]
    }
   ],
   "source": [
    "print(cur.execute(\"Select * from student where id==1 and name='Alok'\").fetchall())"
   ]
  },
  {
   "cell_type": "code",
   "execution_count": 38,
   "id": "04eddef6",
   "metadata": {},
   "outputs": [
    {
     "name": "stdout",
     "output_type": "stream",
     "text": [
      "[(3, 'Anuvab', 'Science')]\n"
     ]
    }
   ],
   "source": [
    "print(cur.execute(\"Select * from marks where subject=='Science'\").fetchall())"
   ]
  },
  {
   "cell_type": "code",
   "execution_count": 40,
   "id": "ded5e790",
   "metadata": {},
   "outputs": [
    {
     "name": "stdout",
     "output_type": "stream",
     "text": [
      "[(4, 'Puneet', 'Computer Science')]\n"
     ]
    }
   ],
   "source": [
    "print(cur.execute(\"select * from marks where subject=='Computer Science'\").fetchall())"
   ]
  },
  {
   "cell_type": "markdown",
   "id": "f9d580e0",
   "metadata": {},
   "source": [
    "## Or Operation:\n",
    "    \n",
    "- NOTE: - Either one is true you will get the result.\n",
    "\n",
    "- SYNTAX: select name id from < table name> where <id==2> or <name='Ankit'>"
   ]
  },
  {
   "cell_type": "code",
   "execution_count": 41,
   "id": "df950ba2",
   "metadata": {},
   "outputs": [
    {
     "name": "stdout",
     "output_type": "stream",
     "text": [
      "[(1, 'Alok', 67), (6, 'Abhijit', 97)]\n"
     ]
    }
   ],
   "source": [
    "print(cur.execute(\"Select * from student where id==1 or name=='Abhijit'\").fetchall())"
   ]
  },
  {
   "cell_type": "code",
   "execution_count": 43,
   "id": "52375068",
   "metadata": {},
   "outputs": [
    {
     "name": "stdout",
     "output_type": "stream",
     "text": [
      "[(1, 'Alok', 67), (14, 'Bhavesh', 79)]\n"
     ]
    }
   ],
   "source": [
    "print(cur.execute(\"select * from student where id==1 or name='Bhavesh'\").fetchall())"
   ]
  },
  {
   "cell_type": "code",
   "execution_count": 45,
   "id": "9539aa28",
   "metadata": {},
   "outputs": [
    {
     "name": "stdout",
     "output_type": "stream",
     "text": [
      "[('Anuvab', 3, 'Science'), ('Puneet', 4, 'Computer Science')]\n"
     ]
    }
   ],
   "source": [
    "print(cur.execute(\"select name,id,subject from marks where id==3 or subject=='Computer Science'\").fetchall())"
   ]
  },
  {
   "cell_type": "markdown",
   "id": "5cb7116e",
   "metadata": {},
   "source": [
    "## ORDER BY Clause\n",
    "\n",
    "- Order by name desc\n",
    "- Order by name asc"
   ]
  },
  {
   "cell_type": "code",
   "execution_count": 47,
   "id": "cb09de00",
   "metadata": {},
   "outputs": [
    {
     "name": "stdout",
     "output_type": "stream",
     "text": [
      "[('Abhijit', 6, 97), ('Bittu', 12, 95), ('Arnav', 5, 93), ('Anupam', 4, 89), ('Anu', 3, 88), ('Ankur', 8, 87), ('Bikki', 13, 85), ('Bikram', 11, 82), ('Binod', 15, 82)]\n"
     ]
    }
   ],
   "source": [
    "# Syntax: select name, id, marks from <table_name> where <marks>80> order by marks desc\n",
    "print(cur.execute(\"Select name,id,marks from student where marks>80 order by marks desc\").fetchall())"
   ]
  },
  {
   "cell_type": "code",
   "execution_count": 49,
   "id": "c697eecb",
   "metadata": {},
   "outputs": [
    {
     "name": "stdout",
     "output_type": "stream",
     "text": [
      "[(4, 'Puneet', 'Computer Science'), (2, 'Avinav', 'Maths'), (1, 'Avinash', 'English'), (3, 'Anuvab', 'Science')]\n"
     ]
    }
   ],
   "source": [
    "# Syntax:\n",
    "\n",
    "print(cur.execute(\"Select * from marks where id>=1 order by name desc\").fetchall())"
   ]
  },
  {
   "cell_type": "code",
   "execution_count": 50,
   "id": "bd24d1cb",
   "metadata": {},
   "outputs": [
    {
     "name": "stdout",
     "output_type": "stream",
     "text": [
      "[(3, 'Anuvab', 'Science'), (1, 'Avinash', 'English'), (2, 'Avinav', 'Maths'), (4, 'Puneet', 'Computer Science')]\n"
     ]
    }
   ],
   "source": [
    "print(cur.execute(\"select * from marks where id<10 and id>=1 order by name asc\").fetchall())"
   ]
  },
  {
   "cell_type": "markdown",
   "id": "41ee9ded",
   "metadata": {},
   "source": [
    "## AGGREGATE FUNCTION\n",
    "\n",
    "***************\n",
    "\n",
    "1. MIN --- Find minimum \n",
    "2. MAX --- Find maximum\n",
    "3. AVG --- Find average\n",
    "4. SUM --- Find Sum\n",
    "5. COUNT - Find count"
   ]
  },
  {
   "cell_type": "code",
   "execution_count": 51,
   "id": "3c6b058e",
   "metadata": {},
   "outputs": [
    {
     "name": "stdout",
     "output_type": "stream",
     "text": [
      "[('Abhijit', 6, 97)]\n"
     ]
    }
   ],
   "source": [
    "# find maximum marks from student\n",
    "\n",
    "print(cur.execute(\"select max(marks) from student\").fetchall())"
   ]
  },
  {
   "cell_type": "code",
   "execution_count": 52,
   "id": "c28d9900",
   "metadata": {},
   "outputs": [
    {
     "name": "stdout",
     "output_type": "stream",
     "text": [
      "[(59, 10, 59)]\n"
     ]
    }
   ],
   "source": [
    "# show min marks from marks\n",
    "print(cur.execute(\"select min(marks) from student\").fetchall())"
   ]
  },
  {
   "cell_type": "code",
   "execution_count": 54,
   "id": "ecbaaa81",
   "metadata": {},
   "outputs": [
    {
     "name": "stdout",
     "output_type": "stream",
     "text": [
      "[('Alok', 1, 81.13)]\n"
     ]
    }
   ],
   "source": [
    "# show average marks \n",
    "\n",
    "print(cur.execute(\"Select round(avg(marks),2) from student\").fetchall())"
   ]
  },
  {
   "cell_type": "code",
   "execution_count": 58,
   "id": "ec486a7c",
   "metadata": {},
   "outputs": [
    {
     "name": "stdout",
     "output_type": "stream",
     "text": [
      "[(15,)]\n"
     ]
    }
   ],
   "source": [
    "# it would count and let us know total number of ids\n",
    "\n",
    "print(cur.execute(\"Select count(id) from student \").fetchall())"
   ]
  },
  {
   "cell_type": "code",
   "execution_count": 61,
   "id": "ea5fedfa",
   "metadata": {},
   "outputs": [
    {
     "name": "stdout",
     "output_type": "stream",
     "text": [
      "(120,)\n"
     ]
    }
   ],
   "source": [
    "# it would sum all the id's\n",
    "print(cur.execute(\"Select sum(id) from student\").fetchone())"
   ]
  },
  {
   "cell_type": "code",
   "execution_count": 63,
   "id": "49a9dc10",
   "metadata": {},
   "outputs": [
    {
     "name": "stdout",
     "output_type": "stream",
     "text": [
      "(120, 15, 59, 97, 81.0)\n"
     ]
    }
   ],
   "source": [
    "# print sum of ids,count of ids,min marks,max marks,avg marks from student\n",
    "print(cur.execute(\"select sum(id),count(id),min(marks),max(marks),round(avg(marks)) from student\").fetchone())"
   ]
  },
  {
   "cell_type": "code",
   "execution_count": 65,
   "id": "6a80b370",
   "metadata": {},
   "outputs": [
    {
     "name": "stdout",
     "output_type": "stream",
     "text": [
      "[(10, 'Aniket', 59), (1, 'Alok', 67), (7, 'Ankit', 67), (9, 'Abhishek', 69), (2, 'Anup', 78), (14, 'Bhavesh', 79), (11, 'Bikram', 82), (15, 'Binod', 82), (13, 'Bikki', 85), (8, 'Ankur', 87), (3, 'Anu', 88), (4, 'Anupam', 89), (5, 'Arnav', 93), (12, 'Bittu', 95), (6, 'Abhijit', 97)]\n"
     ]
    }
   ],
   "source": [
    "# marks ascending order\n",
    "print(cur.execute(\"Select * from student order by marks asc\").fetchall())"
   ]
  },
  {
   "cell_type": "code",
   "execution_count": 67,
   "id": "820beb8d",
   "metadata": {},
   "outputs": [
    {
     "name": "stdout",
     "output_type": "stream",
     "text": [
      "[(12, 'Bittu', 95), (15, 'Binod', 82), (11, 'Bikram', 82), (13, 'Bikki', 85), (14, 'Bhavesh', 79), (5, 'Arnav', 93), (4, 'Anupam', 89), (2, 'Anup', 78), (3, 'Anu', 88), (8, 'Ankur', 87), (7, 'Ankit', 67), (10, 'Aniket', 59), (1, 'Alok', 67), (9, 'Abhishek', 69), (6, 'Abhijit', 97)]\n"
     ]
    }
   ],
   "source": [
    "# marks descending order\n",
    "print(cur.execute(\"select * from student order by name desc\").fetchall())"
   ]
  },
  {
   "cell_type": "markdown",
   "id": "572842ba",
   "metadata": {},
   "source": [
    "## BETWEEN Operator"
   ]
  },
  {
   "cell_type": "code",
   "execution_count": 70,
   "id": "bef98d25",
   "metadata": {},
   "outputs": [
    {
     "name": "stdout",
     "output_type": "stream",
     "text": [
      "[(1, 'Alok', 67), (2, 'Anup', 78), (3, 'Anu', 88), (4, 'Anupam', 89), (7, 'Ankit', 67), (8, 'Ankur', 87), (9, 'Abhishek', 69), (11, 'Bikram', 82), (13, 'Bikki', 85), (14, 'Bhavesh', 79), (15, 'Binod', 82)]\n"
     ]
    }
   ],
   "source": [
    "# between operator...\n",
    "\n",
    "print(cur.execute(\"select * from student where marks between 60 and 90\").fetchall())"
   ]
  },
  {
   "cell_type": "code",
   "execution_count": 37,
   "id": "e013ce23",
   "metadata": {},
   "outputs": [
    {
     "name": "stdout",
     "output_type": "stream",
     "text": [
      "[('Aniket', 10)]\n",
      "[(6, 'Bhavesh', 'Computer Science'), (7, 'Bhushan', 'Maths'), (8, 'Varun', 'English')]\n",
      "[('Avinav', 2), ('Anuvab', 3), ('Puneet', 4), ('Bikash', 5), ('Bhavesh', 6)]\n"
     ]
    }
   ],
   "source": [
    "# Between Operator.\n",
    "\n",
    "print(cur.execute(\"Select name, id from student where marks between 50 and 60\").fetchall())\n",
    "print(cur.execute(\"select * from marks where id between 6 and 8\").fetchall())\n",
    "print(cur.execute(\"select name, id from marks where id between 2 and 6\").fetchall())"
   ]
  },
  {
   "cell_type": "code",
   "execution_count": 43,
   "id": "727f3c71",
   "metadata": {},
   "outputs": [
    {
     "name": "stdout",
     "output_type": "stream",
     "text": [
      "[('Bhushan',), ('Varun',)]\n"
     ]
    }
   ],
   "source": [
    "# between operator....\n",
    "\n",
    "print(cur.execute(\"Select name from marks where id between 7 and 8\").fetchall())"
   ]
  },
  {
   "cell_type": "markdown",
   "id": "63efdf2e",
   "metadata": {},
   "source": [
    "## NULL"
   ]
  },
  {
   "cell_type": "code",
   "execution_count": 48,
   "id": "2d3b7bda",
   "metadata": {},
   "outputs": [
    {
     "data": {
      "text/plain": [
       "[]"
      ]
     },
     "execution_count": 48,
     "metadata": {},
     "output_type": "execute_result"
    }
   ],
   "source": [
    "# all are full they are not responsing\n",
    "result=cur.execute(\"select * from student where marks is null\")\n",
    "result.fetchall()"
   ]
  },
  {
   "cell_type": "code",
   "execution_count": 50,
   "id": "39ee3378",
   "metadata": {},
   "outputs": [
    {
     "name": "stdout",
     "output_type": "stream",
     "text": [
      "[(1, 'Alok', 67), (2, 'Anup', 78), (3, 'Anu', 88), (4, 'Anupam', 89), (5, 'Arnav', 93), (6, 'Abhijit', 97), (7, 'Ankit', 67), (8, 'Ankur', 87), (9, 'Abhishek', 69), (10, 'Aniket', 59), (11, 'Bikram', 82), (12, 'Bittu', 95), (13, 'Bikki', 85), (14, 'Bhavesh', 79), (15, 'Binod', 82)]\n"
     ]
    }
   ],
   "source": [
    "# show where the value is not null\n",
    "\n",
    "result=cur.execute(\"Select * from student where marks is not null\")\n",
    "print( result.fetchall())"
   ]
  },
  {
   "cell_type": "markdown",
   "id": "26ec6ba8",
   "metadata": {},
   "source": [
    "## LIKE operator"
   ]
  },
  {
   "cell_type": "code",
   "execution_count": 51,
   "id": "cad483b9",
   "metadata": {},
   "outputs": [
    {
     "data": {
      "text/plain": [
       "(6, 'Abhijit', 97)"
      ]
     },
     "execution_count": 51,
     "metadata": {},
     "output_type": "execute_result"
    }
   ],
   "source": [
    "# show name start from Ab......\n",
    "result=cur.execute(\"select * from student where name like 'Ab%'\")\n",
    "result.fetchone()"
   ]
  },
  {
   "cell_type": "code",
   "execution_count": 52,
   "id": "a5b0a6e1",
   "metadata": {},
   "outputs": [
    {
     "data": {
      "text/plain": [
       "(3, 'Anu', 88)"
      ]
     },
     "execution_count": 52,
     "metadata": {},
     "output_type": "execute_result"
    }
   ],
   "source": [
    "# show \n",
    "result=cur.execute(\"select * from student where marks like '8%'\")\n",
    "result.fetchone()"
   ]
  },
  {
   "cell_type": "code",
   "execution_count": 54,
   "id": "a6ec0a80",
   "metadata": {},
   "outputs": [
    {
     "data": {
      "text/plain": [
       "[(2, 'Anup', 78), (3, 'Anu', 88)]"
      ]
     },
     "execution_count": 54,
     "metadata": {},
     "output_type": "execute_result"
    }
   ],
   "source": [
    "result=cur.execute(\"Select * from student where marks like '%8'\")\n",
    "result.fetchall()"
   ]
  },
  {
   "cell_type": "code",
   "execution_count": 56,
   "id": "9e5c402e",
   "metadata": {},
   "outputs": [
    {
     "data": {
      "text/plain": [
       "[(1, 'Avinash', 'English'), (2, 'Avinav', 'Maths'), (3, 'Anuvab', 'Science')]"
      ]
     },
     "execution_count": 56,
     "metadata": {},
     "output_type": "execute_result"
    }
   ],
   "source": [
    "# show \n",
    "result=cur.execute(\"Select * from marks where name like 'A%'\")\n",
    "result.fetchall()"
   ]
  },
  {
   "cell_type": "code",
   "execution_count": 57,
   "id": "dcc71e15",
   "metadata": {},
   "outputs": [
    {
     "data": {
      "text/plain": [
       "[(3, 'Anuvab', 'Science'), (5, 'Bikash', 'Science')]"
      ]
     },
     "execution_count": 57,
     "metadata": {},
     "output_type": "execute_result"
    }
   ],
   "source": [
    "# show subject start with capital S and rest anything......\n",
    "\n",
    "result=cur.execute(\"select * from marks where subject like 'S%'\")\n",
    "result.fetchall()"
   ]
  },
  {
   "cell_type": "code",
   "execution_count": 61,
   "id": "14ba4a74",
   "metadata": {},
   "outputs": [
    {
     "name": "stdout",
     "output_type": "stream",
     "text": [
      "[('Abhijit', 6), ('Ankit', 7), ('Abhishek', 9), ('Aniket', 10), ('Bikram', 11), ('Bittu', 12), ('Bikki', 13), ('Binod', 15)]\n"
     ]
    }
   ],
   "source": [
    "# show name start from anything middle is i than anything\n",
    "\n",
    "print(cur.execute(\"select name,id from student where name like '%i%'\").fetchall())"
   ]
  },
  {
   "cell_type": "code",
   "execution_count": 62,
   "id": "9c4fdbc2",
   "metadata": {},
   "outputs": [
    {
     "name": "stdout",
     "output_type": "stream",
     "text": [
      "[('Abhijit',), ('Abhishek',)]\n"
     ]
    }
   ],
   "source": [
    "# show name starts with any single alphabet and then b then anything............\n",
    "\n",
    "print(cur.execute(\"select name from student where name like '_b%' \").fetchall())"
   ]
  },
  {
   "cell_type": "code",
   "execution_count": 63,
   "id": "007488c8",
   "metadata": {},
   "outputs": [
    {
     "name": "stdout",
     "output_type": "stream",
     "text": [
      "[('Abhijit',)]\n"
     ]
    }
   ],
   "source": [
    "# find name with '_ _ _ _jit'\n",
    "print(cur.execute(\"select name from student where name like '____jit'\").fetchall())"
   ]
  },
  {
   "cell_type": "markdown",
   "id": "36c5efb5",
   "metadata": {},
   "source": [
    "## NOT in Operator"
   ]
  },
  {
   "cell_type": "code",
   "execution_count": 70,
   "id": "534b789d",
   "metadata": {},
   "outputs": [
    {
     "name": "stdout",
     "output_type": "stream",
     "text": [
      "[(1, 'Avinash', 'English'), (2, 'Avinav', 'Maths'), (4, 'Puneet', 'Computer Science'), (6, 'Bhavesh', 'Computer Science'), (7, 'Bhushan', 'Maths'), (8, 'Varun', 'English')]\n"
     ]
    }
   ],
   "source": [
    "# NOT in (70)\n",
    "\n",
    "print(cur.execute(\"Select * from marks where Subject NOT IN ('Science')\").fetchall())\n",
    "\n",
    "# note: ALWAYS USE BRACKET FOR ELSE NO RESULT"
   ]
  },
  {
   "cell_type": "code",
   "execution_count": 90,
   "id": "b3aacaa0",
   "metadata": {},
   "outputs": [
    {
     "name": "stdout",
     "output_type": "stream",
     "text": [
      "[('Bikram', 82), ('Bittu', 95), ('Bikki', 85), ('Bhavesh', 79), ('Binod', 82)]\n"
     ]
    }
   ],
   "source": [
    "print(cur.execute(\"select name,marks from student where name NOT in (Select name from student where name like 'A%')\").fetchall())"
   ]
  },
  {
   "cell_type": "code",
   "execution_count": 92,
   "id": "fe7811dd",
   "metadata": {},
   "outputs": [
    {
     "name": "stdout",
     "output_type": "stream",
     "text": [
      "[(67, 'Alok'), (67, 'Ankit'), (69, 'Abhishek'), (59, 'Aniket')]\n"
     ]
    }
   ],
   "source": [
    "print(cur.execute(\"select marks,name from student where marks not in (select marks from student where marks between 70 and 100)\").fetchall())"
   ]
  },
  {
   "cell_type": "markdown",
   "id": "2ba67e12",
   "metadata": {},
   "source": [
    "## Update Record"
   ]
  },
  {
   "cell_type": "raw",
   "id": "8a4d5aa3",
   "metadata": {},
   "source": [
    "- SYNTEX: update student set <<MARKS=81>> where <<id==2>>"
   ]
  },
  {
   "cell_type": "code",
   "execution_count": 93,
   "id": "e5ce878b",
   "metadata": {},
   "outputs": [],
   "source": [
    "\n",
    "sql=\"update student set marks=81 where name='Alok' \"\n",
    "cur.execute(sql)\n",
    "db.commit()"
   ]
  },
  {
   "cell_type": "code",
   "execution_count": 95,
   "id": "0695a584",
   "metadata": {},
   "outputs": [
    {
     "data": {
      "text/plain": [
       "('Alok', 1, 81)"
      ]
     },
     "execution_count": 95,
     "metadata": {},
     "output_type": "execute_result"
    }
   ],
   "source": [
    "cur.execute(\"Select name,id,marks from student where name='Alok'\").fetchone()"
   ]
  },
  {
   "cell_type": "code",
   "execution_count": 6,
   "id": "7af6ea1f",
   "metadata": {},
   "outputs": [
    {
     "name": "stdout",
     "output_type": "stream",
     "text": [
      "[('Alok', 1, 81), ('Anu', 3, 88), ('Anupam', 4, 89), ('Arnav', 5, 93), ('Abhijit', 6, 97), ('Ankur', 8, 87), ('Bikram', 11, 82), ('Bittu', 12, 95), ('Bikki', 13, 85), ('Binod', 15, 82)]\n"
     ]
    }
   ],
   "source": [
    "print(cur.execute(\"select name,id,marks from student where id not in (select id from student where marks<80)\").fetchall())"
   ]
  },
  {
   "cell_type": "markdown",
   "id": "703d9d27",
   "metadata": {},
   "source": [
    "## IN Operator:\n",
    "\n",
    "\n",
    "- Used to Update Multiple Records. "
   ]
  },
  {
   "cell_type": "code",
   "execution_count": 7,
   "id": "b49537d1",
   "metadata": {},
   "outputs": [],
   "source": [
    "sql=\"update student set marks=60 where id in (1,2)\"\n",
    "cur.execute(sql)\n",
    "db.commit()"
   ]
  },
  {
   "cell_type": "code",
   "execution_count": 10,
   "id": "5735b87e",
   "metadata": {},
   "outputs": [
    {
     "name": "stdout",
     "output_type": "stream",
     "text": [
      "(1, 'Alok', 60)\n",
      "(2, 'Anup', 60)\n"
     ]
    }
   ],
   "source": [
    "for i in cur.execute(\"Select id, name,marks from student where marks=60\"):\n",
    "    print(i)"
   ]
  },
  {
   "cell_type": "markdown",
   "id": "a528f37c",
   "metadata": {},
   "source": [
    "### Delete:\n",
    "\n",
    "- any unwanted row "
   ]
  },
  {
   "cell_type": "code",
   "execution_count": 11,
   "id": "f1b95306",
   "metadata": {},
   "outputs": [],
   "source": [
    "sql=\"delete from student where id==1\"\n",
    "\n",
    "cur.execute(sql)\n",
    "db.commit()"
   ]
  },
  {
   "cell_type": "code",
   "execution_count": 12,
   "id": "96d1293c",
   "metadata": {},
   "outputs": [
    {
     "name": "stdout",
     "output_type": "stream",
     "text": [
      "(2, 'Anup', 60)\n",
      "(3, 'Anu', 88)\n",
      "(4, 'Anupam', 89)\n",
      "(5, 'Arnav', 93)\n",
      "(6, 'Abhijit', 97)\n"
     ]
    }
   ],
   "source": [
    "for i in cur.execute(\"Select * from student limit 5\"):\n",
    "    print(i)"
   ]
  },
  {
   "cell_type": "markdown",
   "id": "514d7ca0",
   "metadata": {},
   "source": [
    "# Drop Student Table:"
   ]
  },
  {
   "cell_type": "code",
   "execution_count": 14,
   "id": "fa852d8f",
   "metadata": {},
   "outputs": [],
   "source": [
    "sql='Drop table student'\n",
    "cur.execute(sql)\n",
    "db.commit()"
   ]
  },
  {
   "cell_type": "markdown",
   "id": "e1591900",
   "metadata": {},
   "source": [
    "# NOTE:\n",
    "\n",
    "\n",
    "1. Drop Command : Used to drop table.\n",
    "2. Delete Command: Used to delete or drop row\n",
    "\n",
    "**After dropping table Type DB.close() to close the Data-Base**"
   ]
  },
  {
   "cell_type": "code",
   "execution_count": 15,
   "id": "d20e570c",
   "metadata": {},
   "outputs": [],
   "source": [
    "# closing database.\n",
    "\n",
    "db.close()"
   ]
  },
  {
   "cell_type": "markdown",
   "id": "4d3e8da0",
   "metadata": {},
   "source": [
    "\n",
    "*******************\n",
    "*********************\n",
    "*********************\n",
    "\n",
    "Day 3...............................(Practice)"
   ]
  },
  {
   "cell_type": "markdown",
   "id": "e35df622",
   "metadata": {},
   "source": [
    "### Practice  Question"
   ]
  },
  {
   "cell_type": "code",
   "execution_count": 1,
   "id": "d60561ad",
   "metadata": {},
   "outputs": [],
   "source": [
    "# importing sqlite3\n",
    "import sqlite3\n",
    "\n",
    "# connecting object with database\n",
    "db=sqlite3.connect(\"Student_database.db\")\n",
    "\n",
    "# making cursor\n",
    "cur=db.cursor()"
   ]
  },
  {
   "cell_type": "code",
   "execution_count": 5,
   "id": "6914cab1",
   "metadata": {},
   "outputs": [
    {
     "name": "stdout",
     "output_type": "stream",
     "text": [
      "[(1, 'Alok', 67), (2, 'Anup', 78), (3, 'Anu', 88), (4, 'Anupam', 89), (5, 'Arnav', 93), (6, 'Abhijit', 97), (7, 'Ankit', 67), (8, 'Ankur', 87), (9, 'Abhishek', 69), (10, 'Aniket', 59), (11, 'Bikram', 82), (12, 'Bittu', 95), (13, 'Bikki', 85), (14, 'Bhavesh', 79), (15, 'Binod', 82)]\n",
      "\n",
      " [('Avinash', 'English'), ('Avinav', 'Maths'), ('Anuvab', 'Science'), ('Puneet', 'Computer Science')]\n"
     ]
    }
   ],
   "source": [
    "# checking the result\n",
    "print(cur.execute(\"Select * from student\").fetchall())\n",
    "print(\"\\n\",cur.execute(\"select name,subject from marks\").fetchall())"
   ]
  },
  {
   "cell_type": "code",
   "execution_count": 8,
   "id": "05fcd3c2",
   "metadata": {},
   "outputs": [
    {
     "data": {
      "text/plain": [
       "<sqlite3.Cursor at 0x1418cf4a570>"
      ]
     },
     "execution_count": 8,
     "metadata": {},
     "output_type": "execute_result"
    }
   ],
   "source": [
    "# INSERT FEW DATA IN MARKS TABLE\n",
    "cur.execute(\"insert into marks VALUES (5,'Bikash','Science'),(6,'Bhavesh','Computer Science'),(7,'Bhushan','Maths'),(8,'Varun','English')\")"
   ]
  },
  {
   "cell_type": "code",
   "execution_count": 9,
   "id": "32b239d6",
   "metadata": {},
   "outputs": [
    {
     "name": "stdout",
     "output_type": "stream",
     "text": [
      "Rows Inserted : 4\n"
     ]
    }
   ],
   "source": [
    "# CHECKING INSERTED ROWS\n",
    "print(\"Rows Inserted :\",cur.rowcount)"
   ]
  },
  {
   "cell_type": "code",
   "execution_count": 10,
   "id": "a63bf03d",
   "metadata": {},
   "outputs": [
    {
     "name": "stdout",
     "output_type": "stream",
     "text": [
      "(1, 'Avinash', 'English')\n",
      "(2, 'Avinav', 'Maths')\n",
      "(3, 'Anuvab', 'Science')\n",
      "(4, 'Puneet', 'Computer Science')\n",
      "(5, 'Bikash', 'Science')\n",
      "(6, 'Bhavesh', 'Computer Science')\n",
      "(7, 'Bhushan', 'Maths')\n",
      "(8, 'Varun', 'English')\n"
     ]
    }
   ],
   "source": [
    "for i in cur.execute(\"Select * from marks\"):\n",
    "    print(i)"
   ]
  },
  {
   "cell_type": "code",
   "execution_count": 11,
   "id": "dc1dbf7c",
   "metadata": {},
   "outputs": [
    {
     "name": "stdout",
     "output_type": "stream",
     "text": [
      "(1, 'Avinash', 'English')\n",
      "(2, 'Avinav', 'Maths')\n",
      "(3, 'Anuvab', 'Science')\n",
      "(4, 'Puneet', 'Computer Science')\n",
      "(5, 'Bikash', 'Science')\n"
     ]
    }
   ],
   "source": [
    "# check top 5 in marks:\n",
    "\n",
    "results=cur.execute(\"select * from marks limit 5\")\n",
    "for i in results:\n",
    "    print(i)"
   ]
  },
  {
   "cell_type": "code",
   "execution_count": 12,
   "id": "77bbf88f",
   "metadata": {},
   "outputs": [
    {
     "name": "stdout",
     "output_type": "stream",
     "text": [
      "[('Avinash', 1), ('Avinav', 2), ('Anuvab', 3), ('Puneet', 4), ('Bikash', 5), ('Bhavesh', 6), ('Bhushan', 7), ('Varun', 8)]\n"
     ]
    }
   ],
   "source": [
    "# checking name, id from marks table\n",
    "print(cur.execute(\"select name,id from marks\").fetchall())"
   ]
  },
  {
   "cell_type": "code",
   "execution_count": 13,
   "id": "ba588dc6",
   "metadata": {},
   "outputs": [
    {
     "name": "stdout",
     "output_type": "stream",
     "text": [
      "[(5, 'Bikash', 'Science')]\n"
     ]
    }
   ],
   "source": [
    "# Using AND operator\n",
    "\n",
    "# checking for name \"Bikash\" with id 5 in marks table\n",
    "print(cur.execute(\"select * from marks where id=5 and name='Bikash'\").fetchall())"
   ]
  },
  {
   "cell_type": "code",
   "execution_count": 19,
   "id": "fb36052f",
   "metadata": {},
   "outputs": [
    {
     "data": {
      "text/plain": [
       "[(3, 'Anuvab', 'Science'), (5, 'Bikash', 'Science')]"
      ]
     },
     "execution_count": 19,
     "metadata": {},
     "output_type": "execute_result"
    }
   ],
   "source": [
    "# OR operator\n",
    "\n",
    "# checking the details where name ='Bikash' and subject='Science'\n",
    "cur.execute(\"Select * from marks where name='Bikash' or subject=='Science'\").fetchall()"
   ]
  },
  {
   "cell_type": "code",
   "execution_count": 22,
   "id": "bde907de",
   "metadata": {},
   "outputs": [
    {
     "name": "stdout",
     "output_type": "stream",
     "text": [
      "[(2, 'Avinav', 'Maths'), (3, 'Anuvab', 'Science'), (4, 'Puneet', 'Computer Science'), (5, 'Bikash', 'Science'), (6, 'Bhavesh', 'Computer Science'), (7, 'Bhushan', 'Maths'), (8, 'Varun', 'English')]\n"
     ]
    }
   ],
   "source": [
    "# between clause/operator\n",
    "\n",
    "# checking the details from id between 2 and 8\n",
    "print(cur.execute(\"select * from marks where id  between 2 and 8\").fetchall())"
   ]
  },
  {
   "cell_type": "code",
   "execution_count": 23,
   "id": "7b12ffa9",
   "metadata": {},
   "outputs": [
    {
     "name": "stdout",
     "output_type": "stream",
     "text": [
      "[(2, 'Avinav', 'Maths'), (3, 'Anuvab', 'Science'), (4, 'Puneet', 'Computer Science'), (5, 'Bikash', 'Science')]\n",
      "[('Anu',), ('Anupam',), ('Ankur',), ('Bikram',), ('Bikki',), ('Binod',)]\n"
     ]
    }
   ],
   "source": [
    "# between operator/clause\n",
    "\n",
    "print(cur.execute(\"select * from marks where id between 2 and 5\").fetchall())\n",
    "\n",
    "# SYNTAX: select name from student where marks between 80 and 90 \n",
    "print(cur.execute(\"select name from student where marks between 80 and 90\").fetchall())"
   ]
  },
  {
   "cell_type": "code",
   "execution_count": 25,
   "id": "3c536adb",
   "metadata": {},
   "outputs": [
    {
     "name": "stdout",
     "output_type": "stream",
     "text": [
      "[('Avinav',), ('Anuvab',), ('Puneet',), ('Bikash',)]\n"
     ]
    }
   ],
   "source": [
    "# between clause/operator\n",
    "\n",
    "print(cur.execute(\"Select name from Marks where id between 2 and 5\").fetchall())"
   ]
  },
  {
   "cell_type": "code",
   "execution_count": 26,
   "id": "9fd0cb3d",
   "metadata": {},
   "outputs": [
    {
     "data": {
      "text/plain": [
       "[('Anup', 2), ('Anu', 3)]"
      ]
     },
     "execution_count": 26,
     "metadata": {},
     "output_type": "execute_result"
    }
   ],
   "source": [
    "# between operator/clause\n",
    "\n",
    "result=cur.execute(\"select name,id from student where id between 2 and 3\")\n",
    "result.fetchall()"
   ]
  },
  {
   "cell_type": "code",
   "execution_count": 28,
   "id": "28ace334",
   "metadata": {},
   "outputs": [
    {
     "data": {
      "text/plain": [
       "(1, 8, 36, 8)"
      ]
     },
     "execution_count": 28,
     "metadata": {},
     "output_type": "execute_result"
    }
   ],
   "source": [
    "# aggregate function\n",
    "\n",
    "result=cur.execute(\"select min(id),max(id),sum(id),count(name) from marks\")\n",
    "result.fetchone()"
   ]
  },
  {
   "cell_type": "code",
   "execution_count": 29,
   "id": "ebcaec19",
   "metadata": {},
   "outputs": [
    {
     "name": "stdout",
     "output_type": "stream",
     "text": [
      "[('Varun',), ('Puneet',), ('Bikash',), ('Bhushan',), ('Bhavesh',), ('Avinav',), ('Avinash',), ('Anuvab',)]\n"
     ]
    }
   ],
   "source": [
    "# order by clause: asc,desc\n",
    "\n",
    "print(cur.execute(\"select name from marks order by name desc\").fetchall())"
   ]
  },
  {
   "cell_type": "code",
   "execution_count": 31,
   "id": "9a6756bc",
   "metadata": {},
   "outputs": [
    {
     "name": "stdout",
     "output_type": "stream",
     "text": [
      "[('Varun', 8), ('Bhushan', 7), ('Bhavesh', 6), ('Bikash', 5), ('Puneet', 4), ('Anuvab', 3), ('Avinav', 2), ('Avinash', 1)]\n"
     ]
    }
   ],
   "source": [
    "# order by id desc\n",
    "\n",
    "print(cur.execute(\"select name,id from marks order by id desc\").fetchall())"
   ]
  },
  {
   "cell_type": "code",
   "execution_count": 35,
   "id": "e083af6b",
   "metadata": {},
   "outputs": [
    {
     "name": "stdout",
     "output_type": "stream",
     "text": [
      "[(81.0, 15, 59, 97)]\n"
     ]
    }
   ],
   "source": [
    "print(cur.execute(\"select round(avg(marks)), count(name), min(marks), max(marks) from student\").fetchall())"
   ]
  },
  {
   "cell_type": "markdown",
   "id": "04e66c96",
   "metadata": {},
   "source": [
    "## Automatic Insertion of Data"
   ]
  },
  {
   "cell_type": "code",
   "execution_count": 44,
   "id": "5ed96e4e",
   "metadata": {},
   "outputs": [],
   "source": [
    "# import library\n",
    "import sqlite3\n",
    "\n",
    "# create connection object with data base\n",
    "db=sqlite3.connect(\"Auto_Base.db\")\n",
    "\n",
    "# create cursor object.\n",
    "cur=db.cursor()"
   ]
  },
  {
   "cell_type": "code",
   "execution_count": 50,
   "id": "afd523b5",
   "metadata": {},
   "outputs": [
    {
     "data": {
      "text/plain": [
       "<sqlite3.Cursor at 0x269bfcc8340>"
      ]
     },
     "execution_count": 50,
     "metadata": {},
     "output_type": "execute_result"
    }
   ],
   "source": [
    "# create table\n",
    "\n",
    "cur.execute(\"create table consumer (RowNumber int primary key, CustomerID int,surname char(30), CreditScore int, Geography varchar(30), Gender text, Age int, Tenure int, Balance int,NumofProduct int, HasCrCard int, IsActiveMember int, EstimatedSalary real, Exited int)\")"
   ]
  },
  {
   "cell_type": "code",
   "execution_count": 52,
   "id": "44ed339e",
   "metadata": {},
   "outputs": [
    {
     "name": "stdout",
     "output_type": "stream",
     "text": [
      "20 inserted\n"
     ]
    }
   ],
   "source": [
    "# insert data\n",
    "\n",
    "with open('autofile.csv','r') as file:\n",
    "    total_records=0\n",
    "    \n",
    "    for row in file:\n",
    "        cur.execute(\"insert into consumer values(?,?,?,?,?,?,?,?,?,?,?,?,?,?)\",row.split(\",\"))\n",
    "        # will save the data to database\n",
    "        db.commit()\n",
    "        \n",
    "        total_records+=1\n",
    "        \n",
    "print(total_records,\"inserted\")"
   ]
  },
  {
   "cell_type": "code",
   "execution_count": 53,
   "id": "14f3411d",
   "metadata": {},
   "outputs": [
    {
     "name": "stdout",
     "output_type": "stream",
     "text": [
      "[('Surname',), ('Hargrave',), ('Hill',), ('Onio',), ('Boni',), ('Mitchell',), ('Chu',), ('Bartlett',), ('Obinna',), ('He',), ('H?',), ('Bearce',), ('Andrews',), ('Kay',), ('Chin',), ('Scott',), ('Goforth',), ('Romeo',), ('Henderson',), ('Muldrow',)]\n"
     ]
    }
   ],
   "source": [
    "print(cur.execute(\"select surname from consumer\").fetchall())"
   ]
  },
  {
   "cell_type": "code",
   "execution_count": 56,
   "id": "b25a20d0",
   "metadata": {},
   "outputs": [
    {
     "data": {
      "text/plain": [
       "<sqlite3.Cursor at 0x269bfcc8340>"
      ]
     },
     "execution_count": 56,
     "metadata": {},
     "output_type": "execute_result"
    }
   ],
   "source": [
    "cur.execute(\"DELETE FROM consumer WHERE surname='Surname'\")"
   ]
  },
  {
   "cell_type": "code",
   "execution_count": 60,
   "id": "ca664352",
   "metadata": {},
   "outputs": [
    {
     "name": "stdout",
     "output_type": "stream",
     "text": [
      "[(1, 15634602, 'Hargrave', 619, 'France', 'Female', 42, 2, 0, 1, 1, 1, 101348.88, 1), (2, 15647311, 'Hill', 608, 'Spain', 'Female', 41, 1, 83807.86, 1, 0, 1, 112542.58, 0)]\n"
     ]
    }
   ],
   "source": [
    "print(cur.execute(\"select * from consumer limit 2\").fetchall())"
   ]
  },
  {
   "cell_type": "code",
   "execution_count": 61,
   "id": "9573cacf",
   "metadata": {},
   "outputs": [
    {
     "name": "stdout",
     "output_type": "stream",
     "text": [
      "Database closed Successfully....\n"
     ]
    }
   ],
   "source": [
    "cur.execute(\"drop table consumer\")\n",
    "db.commit()\n",
    "db.close()\n",
    "print(\"Database closed Successfully....\")"
   ]
  },
  {
   "cell_type": "markdown",
   "id": "1c2b01b3",
   "metadata": {},
   "source": [
    "# Practice"
   ]
  },
  {
   "cell_type": "code",
   "execution_count": 18,
   "id": "55ae9f98",
   "metadata": {},
   "outputs": [
    {
     "name": "stdout",
     "output_type": "stream",
     "text": [
      "Data Base oppend successfuly\n"
     ]
    }
   ],
   "source": [
    "# import sqlite library\n",
    "import sqlite3\n",
    "\n",
    "# create connection object\n",
    "db=sqlite3.connect(\"Practice_database.db\")\n",
    "\n",
    "# creating cursor object from database\n",
    "cur=db.cursor()\n",
    "\n",
    "# message\n",
    "print(\"Data Base oppend successfuly\")"
   ]
  },
  {
   "cell_type": "code",
   "execution_count": 19,
   "id": "165a4843",
   "metadata": {},
   "outputs": [
    {
     "data": {
      "text/plain": [
       "<sqlite3.Cursor at 0x269bfcbc030>"
      ]
     },
     "execution_count": 19,
     "metadata": {},
     "output_type": "execute_result"
    }
   ],
   "source": [
    "# creating table employee under Practice_database using cursor\n",
    "cur.execute(\"create table Employee (id int Primary key, Name text, Age int, Address char(20), Salary real)\")"
   ]
  },
  {
   "cell_type": "code",
   "execution_count": 20,
   "id": "b87d1635",
   "metadata": {},
   "outputs": [
    {
     "name": "stdout",
     "output_type": "stream",
     "text": [
      "Rows Inserted : 4\n"
     ]
    }
   ],
   "source": [
    "cur.execute(\"insert into Employee values(1,'Ajeet',27,'Delhi',2000),(2,'Allen',22,'London',2500),(3,'Mark',29,'CA',20000),(4,'Kanchan',22,'Ghaziabad',2000)\")\n",
    "# checking number of rows inserted\n",
    "print(\"Rows Inserted :\",cur.rowcount)"
   ]
  },
  {
   "cell_type": "code",
   "execution_count": 21,
   "id": "d5726c17",
   "metadata": {},
   "outputs": [
    {
     "name": "stdout",
     "output_type": "stream",
     "text": [
      "[('Ajeet',), ('Allen',), ('Mark',), ('Kanchan',)]\n"
     ]
    }
   ],
   "source": [
    "print(cur.execute(\"Select name from Employee where id not in (Select id from Employee where Address like 'A%')\").fetchall())"
   ]
  },
  {
   "cell_type": "code",
   "execution_count": 23,
   "id": "4c769353",
   "metadata": {},
   "outputs": [
    {
     "name": "stdout",
     "output_type": "stream",
     "text": [
      "[('Ajeet',), ('Allen',), ('Mark',), ('Kanchan',)]\n"
     ]
    }
   ],
   "source": [
    "print(cur.execute(\"Select name from Employee where id between 1 and 4\").fetchall())"
   ]
  },
  {
   "cell_type": "code",
   "execution_count": 28,
   "id": "c0fe3c6d",
   "metadata": {},
   "outputs": [
    {
     "name": "stdout",
     "output_type": "stream",
     "text": [
      "('Ajeet', 1)\n"
     ]
    }
   ],
   "source": [
    "print(cur.execute(\"Select name,id from Employee where Address like '_e%'\").fetchone())"
   ]
  },
  {
   "cell_type": "code",
   "execution_count": 29,
   "id": "522d4dd2",
   "metadata": {},
   "outputs": [
    {
     "name": "stdout",
     "output_type": "stream",
     "text": [
      "[(2, 'Allen', 22, 'London', 2500.0), (3, 'Mark', 29, 'CA', 20000.0)]\n"
     ]
    }
   ],
   "source": [
    "print(cur.execute(\"select * from Employee where salary>2000\").fetchall())"
   ]
  },
  {
   "cell_type": "code",
   "execution_count": 31,
   "id": "0be39f00",
   "metadata": {},
   "outputs": [
    {
     "name": "stdout",
     "output_type": "stream",
     "text": [
      "[(1, 'Ajeet', 27, 'Delhi', 2000.0), (2, 'Allen', 22, 'London', 2500.0), (3, 'Mark', 29, 'CA', 20000.0), (4, 'Kanchan', 22, 'Ghaziabad', 2000.0)]\n",
      "[('Mark',), ('Kanchan',), ('Allen',), ('Ajeet',)]\n"
     ]
    },
    {
     "data": {
      "text/plain": [
       "<sqlite3.Cursor at 0x269bfcbc030>"
      ]
     },
     "execution_count": 31,
     "metadata": {},
     "output_type": "execute_result"
    }
   ],
   "source": [
    "# fetch top 5\n",
    "print(cur.execute(\"select * from Employee limit 5\").fetchall())\n",
    "\n",
    "# order by name desc\n",
    "print(cur.execute(\"select name from Employee Order by name desc\").fetchall())\n",
    "\n",
    "# update multiple salary 25000 where salary is 200\n",
    "cur.execute('update Employee set salary=25000  (2000)')"
   ]
  },
  {
   "cell_type": "code",
   "execution_count": 34,
   "id": "296c870a",
   "metadata": {},
   "outputs": [
    {
     "data": {
      "text/plain": [
       "<sqlite3.Cursor at 0x269bfcbc030>"
      ]
     },
     "execution_count": 34,
     "metadata": {},
     "output_type": "execute_result"
    }
   ],
   "source": [
    "sql='Update Employee set salary=25000 where id in(1,4)'\n",
    "cur.execute(sql)"
   ]
  },
  {
   "cell_type": "code",
   "execution_count": 37,
   "id": "26d98d1e",
   "metadata": {},
   "outputs": [
    {
     "data": {
      "text/plain": [
       "<sqlite3.Cursor at 0x269bfcbc030>"
      ]
     },
     "execution_count": 37,
     "metadata": {},
     "output_type": "execute_result"
    }
   ],
   "source": [
    "cur.execute(\"update Employee set salary=30000 where id in (2,3)\")"
   ]
  },
  {
   "cell_type": "code",
   "execution_count": 38,
   "id": "2033b1ac",
   "metadata": {},
   "outputs": [
    {
     "name": "stdout",
     "output_type": "stream",
     "text": [
      "[(1, 'Ajeet', 27, 'Delhi', 25000.0), (2, 'Allen', 22, 'London', 30000.0), (3, 'Mark', 29, 'CA', 30000.0), (4, 'Kanchan', 22, 'Ghaziabad', 25000.0)]\n"
     ]
    }
   ],
   "source": [
    "print(cur.execute(\"select * from Employee\").fetchall())"
   ]
  },
  {
   "cell_type": "code",
   "execution_count": 40,
   "id": "83708bb6",
   "metadata": {},
   "outputs": [
    {
     "name": "stdout",
     "output_type": "stream",
     "text": [
      "(4, 4, 25000.0, 30000.0, 27500.0)\n"
     ]
    }
   ],
   "source": [
    "print(cur.execute(\"Select count(name),count(Address),min(salary),max(salary),avg(salary) from Employee\").fetchone())"
   ]
  },
  {
   "cell_type": "code",
   "execution_count": 41,
   "id": "4eb9f94f",
   "metadata": {},
   "outputs": [],
   "source": [
    "cur.execute(\"drop table Employee\")\n",
    "db.commit()"
   ]
  },
  {
   "cell_type": "code",
   "execution_count": 42,
   "id": "f26cf7fe",
   "metadata": {},
   "outputs": [],
   "source": [
    "db.close()"
   ]
  },
  {
   "cell_type": "markdown",
   "id": "2537a945",
   "metadata": {},
   "source": [
    "## SQL Constrant"
   ]
  },
  {
   "cell_type": "markdown",
   "id": "ca74f2e9",
   "metadata": {},
   "source": [
    "1. Primary Key: \n",
    "\n",
    "  > a. Unique.   >>b. Not Null\n",
    "\n",
    "\n",
    "2. Unique Key:\n",
    "\n",
    "  > a. Unique  >>b. can be null\n",
    "\n",
    "3. Not Null:\n",
    "\n",
    "  > can be anything    >> but not empty"
   ]
  },
  {
   "cell_type": "markdown",
   "id": "a855ff02",
   "metadata": {},
   "source": [
    "**Day 4** working with Constrant"
   ]
  },
  {
   "cell_type": "code",
   "execution_count": 1,
   "id": "f23d0cc0",
   "metadata": {},
   "outputs": [],
   "source": [
    "# import library\n",
    "import sqlite3\n",
    "\n",
    "# create reference object\n",
    "db=sqlite3.connect(\"Sports_database.db\")\n",
    "\n",
    "# create cursor object\n",
    "cur=db.cursor()"
   ]
  },
  {
   "cell_type": "code",
   "execution_count": 2,
   "id": "9407b11b",
   "metadata": {},
   "outputs": [
    {
     "data": {
      "text/plain": [
       "<sqlite3.Cursor at 0x16ce89ca570>"
      ]
     },
     "execution_count": 2,
     "metadata": {},
     "output_type": "execute_result"
    }
   ],
   "source": [
    "# create table sports where id int primary key, sports text unique,date of event date,country text not null\n",
    "\n",
    "sql=\"create table sports(id int primary key, sports text unique, dateofevent date,country text not null)\"\n",
    "\n",
    "# execute with the help of cursor\n",
    "cur.execute(sql)"
   ]
  },
  {
   "cell_type": "code",
   "execution_count": 3,
   "id": "7579672b",
   "metadata": {},
   "outputs": [
    {
     "name": "stdout",
     "output_type": "stream",
     "text": [
      "5 rows_inserted\n"
     ]
    }
   ],
   "source": [
    "# insert data into table\n",
    "\n",
    "sql=\"insert into sports values (1,'cricket','2020-06-14','India'),(2,'Tennis',2021-04-14,'Sri-Lanka'),(3,'Football',2022-06-14,'USA'),(4,'VollyBall',2022-04-05,'Europe'),(5,'BaseBall',2023-01-21,'India')\"\n",
    "\n",
    "cur.execute(sql)\n",
    "db.commit()\n",
    "\n",
    "print(cur.rowcount,\"rows_inserted\")"
   ]
  },
  {
   "cell_type": "code",
   "execution_count": 4,
   "id": "5fdcdd67",
   "metadata": {},
   "outputs": [
    {
     "name": "stdout",
     "output_type": "stream",
     "text": [
      "[(1, 'cricket', '2020-06-14', 'India'), (2, 'Tennis', 2003, 'Sri-Lanka'), (3, 'Football', 2002, 'USA'), (4, 'VollyBall', 2013, 'Europe'), (5, 'BaseBall', 2001, 'India')]\n"
     ]
    }
   ],
   "source": [
    "# limit \n",
    "print(cur.execute(\"Select * from sports limit 5\").fetchall())"
   ]
  },
  {
   "cell_type": "code",
   "execution_count": 5,
   "id": "5c3eaca7",
   "metadata": {},
   "outputs": [
    {
     "name": "stdout",
     "output_type": "stream",
     "text": [
      "[(1, 'cricket'), (5, 'BaseBall')]\n"
     ]
    }
   ],
   "source": [
    "# where clause\n",
    "print(cur.execute(\"select id,sports from sports where country=='India'\").fetchall())"
   ]
  },
  {
   "cell_type": "code",
   "execution_count": 6,
   "id": "c2efa2ed",
   "metadata": {},
   "outputs": [
    {
     "name": "stdout",
     "output_type": "stream",
     "text": [
      "[(2, 'Tennis'), (3, 'Football'), (4, 'VollyBall')]\n"
     ]
    }
   ],
   "source": [
    "# not in and like operator\n",
    "print(cur.execute(\"select id,sports from sports where id not in(select id from sports where country like 'I%')\").fetchall())"
   ]
  },
  {
   "cell_type": "code",
   "execution_count": 7,
   "id": "47a35ba0",
   "metadata": {},
   "outputs": [
    {
     "name": "stdout",
     "output_type": "stream",
     "text": [
      "[(2, 'Tennis'), (3, 'Football'), (4, 'VollyBall'), (5, 'BaseBall')]\n"
     ]
    }
   ],
   "source": [
    "# between operator\n",
    "print(cur.execute(\"select id, sports from sports where id between (2) and (5)\").fetchall())"
   ]
  },
  {
   "cell_type": "code",
   "execution_count": 8,
   "id": "cd1fb7e4",
   "metadata": {},
   "outputs": [
    {
     "name": "stdout",
     "output_type": "stream",
     "text": [
      "[('Europe', 'VollyBall')]\n"
     ]
    }
   ],
   "source": [
    "# and operator\n",
    "print(cur.execute(\"select country,sports from sports where id<5 and id>3\").fetchall())"
   ]
  },
  {
   "cell_type": "code",
   "execution_count": 9,
   "id": "de491f88",
   "metadata": {},
   "outputs": [
    {
     "name": "stdout",
     "output_type": "stream",
     "text": [
      "[('India', 'cricket', 1), ('Europe', 'VollyBall', 4), ('India', 'BaseBall', 5)]\n"
     ]
    }
   ],
   "source": [
    "# not in\n",
    "print(cur.execute(\"Select country,sports,id from sports where id not in (2,3)\").fetchall())"
   ]
  },
  {
   "cell_type": "code",
   "execution_count": 10,
   "id": "64457446",
   "metadata": {},
   "outputs": [
    {
     "name": "stdout",
     "output_type": "stream",
     "text": [
      "[(5, 15, 3.0, 5, 1, 5, 5)]\n"
     ]
    }
   ],
   "source": [
    "# aggregate function\n",
    "\n",
    "print(cur.execute(\"select count(id), sum(id), avg(id), max(id), min(id), count(country), count(sports) from sports\").fetchall())"
   ]
  },
  {
   "cell_type": "code",
   "execution_count": 11,
   "id": "4abe00d8",
   "metadata": {},
   "outputs": [
    {
     "name": "stdout",
     "output_type": "stream",
     "text": [
      "Table deleted and database is closed\n"
     ]
    }
   ],
   "source": [
    "sql=\"drop table sports\"\n",
    "cur.execute(sql)\n",
    "db.close()\n",
    "print(\"Table deleted and database is closed\")"
   ]
  },
  {
   "cell_type": "markdown",
   "id": "78e186bb",
   "metadata": {},
   "source": [
    "# Employee Database with DB and Python programmatically\n",
    "\n",
    "\n",
    "**We have to use UDF(user defined function) to enter the data**"
   ]
  },
  {
   "cell_type": "code",
   "execution_count": 12,
   "id": "0b1119a8",
   "metadata": {},
   "outputs": [
    {
     "name": "stdout",
     "output_type": "stream",
     "text": [
      "Database created\n"
     ]
    }
   ],
   "source": [
    "# import library\n",
    "import sqlite3\n",
    "\n",
    "# create reference object in seperate folder\n",
    "db=sqlite3.connect('C:/Users/jitsa/OneDrive/Documents/emp_database.db') # connection created\n",
    " \n",
    "# creating cursor object\n",
    "cur=db.cursor()\n",
    "\n",
    "print(\"Database created\")"
   ]
  },
  {
   "cell_type": "markdown",
   "id": "c6746c4f",
   "metadata": {},
   "source": [
    "## Creating Table "
   ]
  },
  {
   "cell_type": "code",
   "execution_count": 13,
   "id": "1581e965",
   "metadata": {},
   "outputs": [
    {
     "data": {
      "text/plain": [
       "'table created successfully'"
      ]
     },
     "execution_count": 13,
     "metadata": {},
     "output_type": "execute_result"
    }
   ],
   "source": [
    "# creating table using user defined function. \n",
    "def sql_table(con):# con=connection *NEED to enter data base name*\n",
    "    cur=con.cursor()\n",
    "    cur.execute(\"create table employee(id int primary key,name text,salary real,department text,position text,Dateofjoin date)\")\n",
    "    con.commit()\n",
    "    return 'table created successfully'\n",
    "\n",
    "# calling sql_table\n",
    "sql_table(db)"
   ]
  },
  {
   "cell_type": "markdown",
   "id": "21424b65",
   "metadata": {},
   "source": [
    "### Manual check if its running correct"
   ]
  },
  {
   "cell_type": "code",
   "execution_count": 14,
   "id": "39ebac31",
   "metadata": {},
   "outputs": [
    {
     "name": "stdout",
     "output_type": "stream",
     "text": [
      "1 Rows Inserted\n"
     ]
    }
   ],
   "source": [
    "cur.execute(\"insert into employee values(1,'jack',9000,'HR','Manager','2019-07-09')\")\n",
    "\n",
    "# saving the data\n",
    "db.commit()\n",
    "\n",
    "# checking rows inserted\n",
    "print(cur.rowcount,\"Rows Inserted\")"
   ]
  },
  {
   "cell_type": "markdown",
   "id": "f8a5d5ce",
   "metadata": {},
   "source": [
    "## Insert Values into Employee Table "
   ]
  },
  {
   "cell_type": "code",
   "execution_count": 15,
   "id": "c4903f5c",
   "metadata": {},
   "outputs": [],
   "source": [
    "# insert data into database\n",
    "\n",
    "def sql_insert(con,entities):\n",
    "    # creating cursor object\n",
    "    cur=con.cursor()\n",
    "    # cursor.execute()\n",
    "    cur.execute(\"insert into employee values(?,?,?,?,?,?)\",entities)\n",
    "    # saving data to database\n",
    "    con.commit()\n",
    "    # message\n",
    "    print(\"Data Inserted Successfully\")"
   ]
  },
  {
   "cell_type": "code",
   "execution_count": 16,
   "id": "6ef7d3f6",
   "metadata": {},
   "outputs": [
    {
     "name": "stdout",
     "output_type": "stream",
     "text": [
      "Data Inserted Successfully\n"
     ]
    }
   ],
   "source": [
    "# insert into table.\n",
    "entities=(2,'Andrew',50000,'HR','Manager','2012-04-05')\n",
    "sql_insert(db,entities)"
   ]
  },
  {
   "cell_type": "markdown",
   "id": "997366c0",
   "metadata": {},
   "source": [
    "## Checking data in Table"
   ]
  },
  {
   "cell_type": "code",
   "execution_count": 17,
   "id": "5fb797b3",
   "metadata": {},
   "outputs": [
    {
     "name": "stdout",
     "output_type": "stream",
     "text": [
      "[(1, 'jack', 9000.0, 'HR', 'Manager', '2019-07-09'), (2, 'Andrew', 50000.0, 'HR', 'Manager', '2012-04-05')]\n"
     ]
    }
   ],
   "source": [
    "# checking result\n",
    "def sql_view(con): # define table_name(connection name)\n",
    "    cur=con.cursor()\n",
    "    print(cur.execute(\"Select * from employee\").fetchall())\n",
    "\n",
    "\n",
    "# call function with the name of database\n",
    "sql_view(db)"
   ]
  },
  {
   "cell_type": "markdown",
   "id": "8274c539",
   "metadata": {},
   "source": [
    "## Update Function"
   ]
  },
  {
   "cell_type": "code",
   "execution_count": 18,
   "id": "6fa70c38",
   "metadata": {},
   "outputs": [
    {
     "name": "stdout",
     "output_type": "stream",
     "text": [
      "Data Updated Successfully\n"
     ]
    }
   ],
   "source": [
    "## Update Function\n",
    "\n",
    "def sql_update(con):\n",
    "    cursor=con.cursor()\n",
    "    cursor.execute(\"Update employee set name='John' where id==1\")\n",
    "    con.commit()\n",
    "    print(\"Data Updated Successfully\")\n",
    "    \n",
    "sql_update(db)"
   ]
  },
  {
   "cell_type": "code",
   "execution_count": 19,
   "id": "0c5e31fb",
   "metadata": {},
   "outputs": [
    {
     "name": "stdout",
     "output_type": "stream",
     "text": [
      "Data Inserted Successfully\n",
      "Data Inserted Successfully\n"
     ]
    }
   ],
   "source": [
    "entities=(3,'Anand',60000,'HR','Manager','2012-04-05')\n",
    "sql_insert(db,entities)\n",
    "\n",
    "entities=(4,'Ankit',90000,'IT','SR Manager','2025-06-09')\n",
    "sql_insert(db,entities)"
   ]
  },
  {
   "cell_type": "code",
   "execution_count": 20,
   "id": "e2b8b694",
   "metadata": {},
   "outputs": [
    {
     "name": "stdout",
     "output_type": "stream",
     "text": [
      "Data Inserted Successfully\n",
      "Data Inserted Successfully\n"
     ]
    }
   ],
   "source": [
    "entities=(5,'Naveen',40000,'IT','Manager','2021-04-04')\n",
    "sql_insert(db,entities)\n",
    "\n",
    "entities=(6,'Navneet',55000,'CS','Manager','2024-04-04')\n",
    "sql_insert(db,entities)"
   ]
  },
  {
   "cell_type": "code",
   "execution_count": 21,
   "id": "99850727",
   "metadata": {},
   "outputs": [
    {
     "name": "stdout",
     "output_type": "stream",
     "text": [
      "[(1, 'John', 9000.0, 'HR', 'Manager', '2019-07-09'), (2, 'Andrew', 50000.0, 'HR', 'Manager', '2012-04-05'), (3, 'Anand', 60000.0, 'HR', 'Manager', '2012-04-05'), (4, 'Ankit', 90000.0, 'IT', 'SR Manager', '2025-06-09'), (5, 'Naveen', 40000.0, 'IT', 'Manager', '2021-04-04'), (6, 'Navneet', 55000.0, 'CS', 'Manager', '2024-04-04')]\n"
     ]
    }
   ],
   "source": [
    "sql_view(db)"
   ]
  },
  {
   "cell_type": "code",
   "execution_count": 22,
   "id": "33480abc",
   "metadata": {},
   "outputs": [
    {
     "name": "stdout",
     "output_type": "stream",
     "text": [
      "[(1, 'John'), (2, 'Andrew'), (3, 'Anand')]\n"
     ]
    }
   ],
   "source": [
    "print(cur.execute(\"select id,name from employee where department in ('HR')\").fetchall())"
   ]
  },
  {
   "cell_type": "code",
   "execution_count": 23,
   "id": "98bbf96c",
   "metadata": {},
   "outputs": [
    {
     "name": "stdout",
     "output_type": "stream",
     "text": [
      "[('Ankit', 90000.0), ('Naveen', 40000.0)]\n"
     ]
    }
   ],
   "source": [
    "print(cur.execute(\"select name,salary from employee where department in ('IT')\").fetchall())"
   ]
  },
  {
   "cell_type": "code",
   "execution_count": 24,
   "id": "8765ff10",
   "metadata": {},
   "outputs": [
    {
     "name": "stdout",
     "output_type": "stream",
     "text": [
      "[('2012-04-05', 'Anand'), ('2025-06-09', 'Ankit'), ('2024-04-04', 'Navneet')]\n"
     ]
    }
   ],
   "source": [
    "print(cur.execute(\"select Dateofjoin, name from employee where salary>50000 \").fetchall())"
   ]
  },
  {
   "cell_type": "code",
   "execution_count": 25,
   "id": "6388697f",
   "metadata": {},
   "outputs": [
    {
     "name": "stdout",
     "output_type": "stream",
     "text": [
      "[('Andrew', 2), ('Anand', 3), ('Ankit', 4), ('Navneet', 6)]\n"
     ]
    }
   ],
   "source": [
    "print(cur.execute(\"select name,id from employee where salary not in (select salary from employee where salary<50000 )\").fetchall())"
   ]
  },
  {
   "cell_type": "markdown",
   "id": "67c29702",
   "metadata": {},
   "source": [
    "## Delete Function"
   ]
  },
  {
   "cell_type": "code",
   "execution_count": 26,
   "id": "1e5f1d8b",
   "metadata": {},
   "outputs": [],
   "source": [
    "def sql_delete(db):\n",
    "    cur=db.cursor()\n",
    "    cur.execute(\"delete from employee where id==2 \")\n",
    "    db.commit()"
   ]
  },
  {
   "cell_type": "code",
   "execution_count": 27,
   "id": "a852d4c4",
   "metadata": {},
   "outputs": [
    {
     "name": "stdout",
     "output_type": "stream",
     "text": [
      "Minimum Salary (9000.0, 'John', 1)\n",
      "Maximum Salary (90000.0, 'Ankit', 4)\n",
      "Average Salary (50666.666666666664,)\n"
     ]
    }
   ],
   "source": [
    "print(\"Minimum Salary\",cur.execute(\"select min(salary),name,id from employee\").fetchone())\n",
    "print(\"Maximum Salary\",cur.execute(\"select max(salary),name,id from employee\").fetchone())\n",
    "print(\"Average Salary\",cur.execute(\"select avg(salary) from employee\").fetchone())"
   ]
  },
  {
   "cell_type": "code",
   "execution_count": 28,
   "id": "2cc376a7",
   "metadata": {},
   "outputs": [
    {
     "name": "stdout",
     "output_type": "stream",
     "text": [
      "count [(6, 6, 6, 6)]\n"
     ]
    }
   ],
   "source": [
    "print(\"count\",cur.execute(\"select count(name),count(department),count(position),count(Dateofjoin) from EMPLOYEE\").fetchall())"
   ]
  },
  {
   "cell_type": "markdown",
   "id": "2efd1f0a",
   "metadata": {},
   "source": [
    "## Distinct Function"
   ]
  },
  {
   "cell_type": "code",
   "execution_count": 29,
   "id": "2d432c04",
   "metadata": {},
   "outputs": [
    {
     "name": "stdout",
     "output_type": "stream",
     "text": [
      "[('HR',), ('IT',), ('CS',)]\n"
     ]
    }
   ],
   "source": [
    "# will show the distinct department names\n",
    "\n",
    "print(cur.execute(\"select distinct(department) from employee\").fetchall())"
   ]
  },
  {
   "cell_type": "code",
   "execution_count": 30,
   "id": "c19e5cdd",
   "metadata": {},
   "outputs": [
    {
     "name": "stdout",
     "output_type": "stream",
     "text": [
      "[(3,)]\n"
     ]
    }
   ],
   "source": [
    "# will show the count of the distinct department\n",
    "\n",
    "print(cur.execute(\"select count(distinct(department)) from employee\").fetchall())"
   ]
  },
  {
   "cell_type": "code",
   "execution_count": 31,
   "id": "751174c3",
   "metadata": {},
   "outputs": [
    {
     "name": "stdout",
     "output_type": "stream",
     "text": [
      "[('Manager',), ('SR Manager',)]\n"
     ]
    }
   ],
   "source": [
    "# will show distinct position in department\n",
    "\n",
    "print(cur.execute(\"select distinct(position) from employee\").fetchall())"
   ]
  },
  {
   "cell_type": "code",
   "execution_count": 32,
   "id": "64bb380e",
   "metadata": {},
   "outputs": [
    {
     "name": "stdout",
     "output_type": "stream",
     "text": [
      "[(2,)]\n"
     ]
    }
   ],
   "source": [
    "print(cur.execute(\"select count(distinct(position)) from employee\").fetchall())"
   ]
  },
  {
   "cell_type": "markdown",
   "id": "d9d20c4e",
   "metadata": {},
   "source": [
    "## Group BY Function"
   ]
  },
  {
   "cell_type": "code",
   "execution_count": 33,
   "id": "8b44415c",
   "metadata": {},
   "outputs": [
    {
     "data": {
      "text/plain": [
       "[(214000.0, 'Manager'), (90000.0, 'SR Manager')]"
      ]
     },
     "execution_count": 33,
     "metadata": {},
     "output_type": "execute_result"
    }
   ],
   "source": [
    "cur.execute(\"select sum(salary),position FROM employee GROUP BY position\").fetchall()"
   ]
  },
  {
   "cell_type": "code",
   "execution_count": 34,
   "id": "14420c14",
   "metadata": {},
   "outputs": [
    {
     "data": {
      "text/plain": [
       "[(55000.0, 'CS'), (119000.0, 'HR'), (130000.0, 'IT')]"
      ]
     },
     "execution_count": 34,
     "metadata": {},
     "output_type": "execute_result"
    }
   ],
   "source": [
    "cur.execute('select sum(salary),department FROM employee GROUP BY department').fetchall()"
   ]
  },
  {
   "cell_type": "markdown",
   "id": "28c89f86",
   "metadata": {},
   "source": [
    "## Calling Details"
   ]
  },
  {
   "cell_type": "code",
   "execution_count": 35,
   "id": "6f766671",
   "metadata": {},
   "outputs": [],
   "source": [
    "# process 1\n",
    "\n",
    "def sql_query(con,sql):\n",
    "    cursor=con.cursor()\n",
    "    result=cursor.execute(sql)\n",
    "    return result"
   ]
  },
  {
   "cell_type": "code",
   "execution_count": 36,
   "id": "d7df0246",
   "metadata": {},
   "outputs": [
    {
     "data": {
      "text/plain": [
       "[(1, 'John', 9000.0, 'HR', 'Manager', '2019-07-09'),\n",
       " (2, 'Andrew', 50000.0, 'HR', 'Manager', '2012-04-05'),\n",
       " (3, 'Anand', 60000.0, 'HR', 'Manager', '2012-04-05'),\n",
       " (4, 'Ankit', 90000.0, 'IT', 'SR Manager', '2025-06-09'),\n",
       " (5, 'Naveen', 40000.0, 'IT', 'Manager', '2021-04-04'),\n",
       " (6, 'Navneet', 55000.0, 'CS', 'Manager', '2024-04-04')]"
      ]
     },
     "execution_count": 36,
     "metadata": {},
     "output_type": "execute_result"
    }
   ],
   "source": [
    "sql=\"select * from employee\"\n",
    "\n",
    "response=sql_query(db,sql)\n",
    "response.fetchall()"
   ]
  },
  {
   "cell_type": "code",
   "execution_count": 37,
   "id": "d9aeb17c",
   "metadata": {},
   "outputs": [
    {
     "data": {
      "text/plain": [
       "[(1, 'John', 9000.0, 'HR', 'Manager', '2019-07-09'),\n",
       " (2, 'Andrew', 50000.0, 'HR', 'Manager', '2012-04-05'),\n",
       " (3, 'Anand', 60000.0, 'HR', 'Manager', '2012-04-05'),\n",
       " (4, 'Ankit', 90000.0, 'IT', 'SR Manager', '2025-06-09'),\n",
       " (5, 'Naveen', 40000.0, 'IT', 'Manager', '2021-04-04'),\n",
       " (6, 'Navneet', 55000.0, 'CS', 'Manager', '2024-04-04')]"
      ]
     },
     "execution_count": 37,
     "metadata": {},
     "output_type": "execute_result"
    }
   ],
   "source": [
    "# process 2\n",
    "\n",
    "def sql_query(con,sql):\n",
    "    cursor=con.cursor()\n",
    "    return cursor.execute(sql).fetchall()\n",
    "\n",
    "sql_query(db,sql)"
   ]
  },
  {
   "cell_type": "code",
   "execution_count": 38,
   "id": "ea9d22de",
   "metadata": {},
   "outputs": [
    {
     "data": {
      "text/plain": [
       "[(90000.0, 'Ankit')]"
      ]
     },
     "execution_count": 38,
     "metadata": {},
     "output_type": "execute_result"
    }
   ],
   "source": [
    "sql=\"select max(salary),name from employee\"\n",
    "sql_query(db,sql)"
   ]
  },
  {
   "cell_type": "markdown",
   "id": "254b8890",
   "metadata": {},
   "source": [
    "# Execute Many Method"
   ]
  },
  {
   "cell_type": "code",
   "execution_count": 39,
   "id": "d6bd9335",
   "metadata": {},
   "outputs": [],
   "source": [
    "entities=[(9,'Nitin',50000,'CS','Manager','2021-04-04'),(10,'Anoop',60000,'Sales','Manager_Sales','2022-04-23')]"
   ]
  },
  {
   "cell_type": "code",
   "execution_count": 40,
   "id": "68742c51",
   "metadata": {},
   "outputs": [
    {
     "data": {
      "text/plain": [
       "<sqlite3.Cursor at 0x16ce8a7c3b0>"
      ]
     },
     "execution_count": 40,
     "metadata": {},
     "output_type": "execute_result"
    }
   ],
   "source": [
    "# executemany will allow us to insert maximum values at one time.\n",
    "\n",
    "cur.executemany(\"insert into employee values (?,?,?,?,?,?)\",entities)"
   ]
  },
  {
   "cell_type": "code",
   "execution_count": 41,
   "id": "ca4c39ec",
   "metadata": {},
   "outputs": [
    {
     "data": {
      "text/plain": [
       "[(1, 'John', 9000.0, 'HR', 'Manager', '2019-07-09'),\n",
       " (2, 'Andrew', 50000.0, 'HR', 'Manager', '2012-04-05'),\n",
       " (3, 'Anand', 60000.0, 'HR', 'Manager', '2012-04-05'),\n",
       " (4, 'Ankit', 90000.0, 'IT', 'SR Manager', '2025-06-09'),\n",
       " (5, 'Naveen', 40000.0, 'IT', 'Manager', '2021-04-04'),\n",
       " (6, 'Navneet', 55000.0, 'CS', 'Manager', '2024-04-04'),\n",
       " (9, 'Nitin', 50000.0, 'CS', 'Manager', '2021-04-04'),\n",
       " (10, 'Anoop', 60000.0, 'Sales', 'Manager_Sales', '2022-04-23')]"
      ]
     },
     "execution_count": 41,
     "metadata": {},
     "output_type": "execute_result"
    }
   ],
   "source": [
    "# calling function to check the query\n",
    "\n",
    "sql_query(db,sql=\"select * from employee\")"
   ]
  },
  {
   "cell_type": "code",
   "execution_count": 42,
   "id": "6189ce46",
   "metadata": {},
   "outputs": [
    {
     "name": "stdout",
     "output_type": "stream",
     "text": [
      "[('Anand', 3), ('Andrew', 2), ('Ankit', 4), ('Anoop', 10), ('John', 1), ('Naveen', 5), ('Navneet', 6), ('Nitin', 9)]\n",
      "[(4,)]\n",
      "[('HR',), ('IT',), ('CS',), ('Sales',)]\n",
      "[(3,)]\n",
      "[('Manager',), ('SR Manager',), ('Manager_Sales',)]\n"
     ]
    }
   ],
   "source": [
    "print(sql_query(db,\"select name,id from employee order by name asc\"))\n",
    "print(sql_query(db,\"select count(distinct(department)) from employee\"))\n",
    "print(sql_query(db,\"select distinct(department) from employee\"))\n",
    "print(sql_query(db,\"select count(distinct(position)) from employee\"))\n",
    "print(sql_query(db,\"select distinct(position) from employee\"))"
   ]
  },
  {
   "cell_type": "code",
   "execution_count": 43,
   "id": "804bddf1",
   "metadata": {},
   "outputs": [
    {
     "name": "stdout",
     "output_type": "stream",
     "text": [
      "Deleted Table and closed the Data base\n"
     ]
    }
   ],
   "source": [
    "sql=\"drop table employee\"\n",
    "cur.execute(sql)\n",
    "db.commit()\n",
    "db.close()\n",
    "\n",
    "print(\"Deleted Table and closed the Data base\")"
   ]
  },
  {
   "cell_type": "markdown",
   "id": "6cd6a8bb",
   "metadata": {},
   "source": [
    "__________________"
   ]
  },
  {
   "cell_type": "markdown",
   "id": "10341520",
   "metadata": {},
   "source": [
    "# ..............................................Referential Integrity.............................................."
   ]
  },
  {
   "cell_type": "markdown",
   "id": "295b3138",
   "metadata": {},
   "source": [
    "Referential integrity is used to maintain the data consistency between two tables. Rules are made in the database structure about how foreign keys should be used to ensure that changes, addition and deletion in the database maintain the data integrity. The referential integrity constraints state that if a foreign key in the first table refers to the primary key of the second table then every value of foreign key in the first table should either be null or present in the second table."
   ]
  },
  {
   "cell_type": "code",
   "execution_count": 1,
   "id": "85c64a04",
   "metadata": {},
   "outputs": [
    {
     "name": "stdout",
     "output_type": "stream",
     "text": [
      "Database created Successfully\n"
     ]
    }
   ],
   "source": [
    "# import sql library\n",
    "import sqlite3\n",
    "\n",
    "# create connection or reference object for database\n",
    "db=sqlite3.connect(\"School_Database.db\")\n",
    "\n",
    "\n",
    "# create cursor object\n",
    "cur=db.cursor()\n",
    "\n",
    "# message\n",
    "print(\"Database created Successfully\")"
   ]
  },
  {
   "cell_type": "code",
   "execution_count": 2,
   "id": "5443f759",
   "metadata": {},
   "outputs": [
    {
     "data": {
      "text/plain": [
       "<sqlite3.Cursor at 0x19ab872a730>"
      ]
     },
     "execution_count": 2,
     "metadata": {},
     "output_type": "execute_result"
    }
   ],
   "source": [
    "# create table course under database school database\n",
    "cur.execute(\"create table Course(CourseID int primary key, CourseName text,Duration int)\")"
   ]
  },
  {
   "cell_type": "code",
   "execution_count": 3,
   "id": "cc65397f",
   "metadata": {},
   "outputs": [
    {
     "data": {
      "text/plain": [
       "<sqlite3.Cursor at 0x19ab872a730>"
      ]
     },
     "execution_count": 3,
     "metadata": {},
     "output_type": "execute_result"
    }
   ],
   "source": [
    "# create table Student under data base School Database and courseid as foreign key reference Course(courseID) \n",
    "cur.execute(\"create table Student(id int primary key, name text, age varchar(2),CourseID int, FOREIGN KEY(CourseID) references Course(CourseID))\")"
   ]
  },
  {
   "cell_type": "markdown",
   "id": "7bfa7792",
   "metadata": {},
   "source": [
    "### Insert data into Course Table"
   ]
  },
  {
   "cell_type": "code",
   "execution_count": 4,
   "id": "f6b577b9",
   "metadata": {},
   "outputs": [
    {
     "name": "stdout",
     "output_type": "stream",
     "text": [
      "3 Rows Inserted\n"
     ]
    }
   ],
   "source": [
    "sql=\"insert into Course values (78,'Data Science',12),(56,'Python',4),(101,'Database',7)\"\n",
    "\n",
    "# execute the query\n",
    "cur.execute(sql)\n",
    "\n",
    "# save the data\n",
    "db.commit()\n",
    "\n",
    "# print message\n",
    "print(cur.rowcount,\"Rows Inserted\")"
   ]
  },
  {
   "cell_type": "markdown",
   "id": "2a96270d",
   "metadata": {},
   "source": [
    "### Insert data into Student Table"
   ]
  },
  {
   "cell_type": "code",
   "execution_count": 5,
   "id": "f202119b",
   "metadata": {},
   "outputs": [],
   "source": [
    "sql=\"insert into Student values(1,'Pankaj',22,78)\"\n",
    "cur.execute(sql)\n",
    "db.commit()"
   ]
  },
  {
   "cell_type": "code",
   "execution_count": 6,
   "id": "c6a8299f",
   "metadata": {},
   "outputs": [],
   "source": [
    "sql=\"insert into student values(2,'Neeraj',23,56)\"\n",
    "cur.execute(sql)\n",
    "db.commit()"
   ]
  },
  {
   "cell_type": "code",
   "execution_count": 7,
   "id": "103f6190",
   "metadata": {},
   "outputs": [
    {
     "data": {
      "text/plain": [
       "<sqlite3.Cursor at 0x19ab872a730>"
      ]
     },
     "execution_count": 7,
     "metadata": {},
     "output_type": "execute_result"
    }
   ],
   "source": [
    "sql=\"insert into student values(3,'Puneet',45,101)\"\n",
    "cur.execute(sql)\n"
   ]
  },
  {
   "cell_type": "code",
   "execution_count": 8,
   "id": "6c4c054c",
   "metadata": {},
   "outputs": [],
   "source": [
    "sql=\"insert into student values(4,'Pankit',27,78)\"\n",
    "cur.execute(sql)\n",
    "db.commit()"
   ]
  },
  {
   "cell_type": "code",
   "execution_count": 9,
   "id": "cae7dbbc",
   "metadata": {},
   "outputs": [],
   "source": [
    "sql=\"insert into student values(5,'pranab',19,67)\""
   ]
  },
  {
   "cell_type": "code",
   "execution_count": 10,
   "id": "23e160d7",
   "metadata": {},
   "outputs": [],
   "source": [
    "cur.execute(sql)\n",
    "db.commit()"
   ]
  },
  {
   "cell_type": "code",
   "execution_count": 11,
   "id": "5e13f1dc",
   "metadata": {},
   "outputs": [
    {
     "data": {
      "text/plain": [
       "[(1, 'Pankaj', '22', 78),\n",
       " (2, 'Neeraj', '23', 56),\n",
       " (3, 'Puneet', '45', 101),\n",
       " (4, 'Pankit', '27', 78),\n",
       " (5, 'pranab', '19', 67)]"
      ]
     },
     "execution_count": 11,
     "metadata": {},
     "output_type": "execute_result"
    }
   ],
   "source": [
    "sql=\"select * from student\"\n",
    "cur.execute(sql).fetchall()"
   ]
  },
  {
   "cell_type": "markdown",
   "id": "aa78e57e",
   "metadata": {},
   "source": [
    "## Subquery or Nested Query"
   ]
  },
  {
   "cell_type": "code",
   "execution_count": 12,
   "id": "215807a4",
   "metadata": {},
   "outputs": [
    {
     "data": {
      "text/plain": [
       "[('Pankaj',), ('Pankit',)]"
      ]
     },
     "execution_count": 12,
     "metadata": {},
     "output_type": "execute_result"
    }
   ],
   "source": [
    "sql=\"select name from student where courseID=(select CourseID from Course where courseName='Data Science' )\"\n",
    "\n",
    "cur.execute(sql).fetchall()"
   ]
  },
  {
   "cell_type": "code",
   "execution_count": 13,
   "id": "c59431a6",
   "metadata": {},
   "outputs": [
    {
     "data": {
      "text/plain": [
       "[('Neeraj',)]"
      ]
     },
     "execution_count": 13,
     "metadata": {},
     "output_type": "execute_result"
    }
   ],
   "source": [
    "cur.execute(\"Select name from student where courseId=(select CourseID from Course where courseName='Python')\").fetchall()"
   ]
  },
  {
   "cell_type": "code",
   "execution_count": 14,
   "id": "de3a7e13",
   "metadata": {},
   "outputs": [
    {
     "data": {
      "text/plain": [
       "[('Puneet',)]"
      ]
     },
     "execution_count": 14,
     "metadata": {},
     "output_type": "execute_result"
    }
   ],
   "source": [
    "cur.execute(\"Select name from student where courseId=(select CourseID from Course where courseName='Database')\").fetchall()"
   ]
  },
  {
   "cell_type": "code",
   "execution_count": 15,
   "id": "9ba9ddef",
   "metadata": {},
   "outputs": [
    {
     "data": {
      "text/plain": [
       "(101,)"
      ]
     },
     "execution_count": 15,
     "metadata": {},
     "output_type": "execute_result"
    }
   ],
   "source": [
    "cur.execute(\"select CourseID from Course where courseName='Database'\").fetchone()"
   ]
  },
  {
   "cell_type": "markdown",
   "id": "e7ab19ed",
   "metadata": {},
   "source": [
    "# Join"
   ]
  },
  {
   "cell_type": "markdown",
   "id": "d6ba259d",
   "metadata": {},
   "source": [
    "1. Inner-Join : (all common from both table)\n",
    "2. Left-Join  : (Show all records from left table)\n",
    "3. Right-Join : (show the data from right side of table)\n",
    "4. Outer-Join : (Will Show all data from both tables)"
   ]
  },
  {
   "cell_type": "markdown",
   "id": "502751e0",
   "metadata": {},
   "source": [
    "### InnerJoin"
   ]
  },
  {
   "cell_type": "code",
   "execution_count": 18,
   "id": "35aa0a35",
   "metadata": {},
   "outputs": [
    {
     "data": {
      "text/plain": [
       "[(1, 'Pankaj', 78, 'Data Science'),\n",
       " (2, 'Neeraj', 56, 'Python'),\n",
       " (3, 'Puneet', 101, 'Database'),\n",
       " (4, 'Pankit', 78, 'Data Science')]"
      ]
     },
     "execution_count": 18,
     "metadata": {},
     "output_type": "execute_result"
    }
   ],
   "source": [
    "# student_table inner join course_table\n",
    "sql=\"select student.id, student.name, course.courseID, course.courseName from student INNER JOIN Course ON student.CourseID=course.CourseID\"\n",
    "\n",
    "cur.execute(sql).fetchall()"
   ]
  },
  {
   "cell_type": "code",
   "execution_count": 22,
   "id": "6e9170c0",
   "metadata": {},
   "outputs": [
    {
     "data": {
      "text/plain": [
       "[(1, 'Pankaj', 'Data Science', 78),\n",
       " (2, 'Neeraj', 'Python', 56),\n",
       " (3, 'Puneet', 'Database', 101),\n",
       " (4, 'Pankit', 'Data Science', 78)]"
      ]
     },
     "execution_count": 22,
     "metadata": {},
     "output_type": "execute_result"
    }
   ],
   "source": [
    "sql=\"select student.id, student.name, course.courseName, course.CourseID from COURSE INNER JOIN student on course.CourseID=student.CourseID \"\n",
    "cur.execute(sql).fetchall()\n"
   ]
  },
  {
   "cell_type": "markdown",
   "id": "55e0c81d",
   "metadata": {},
   "source": [
    "### Left Join "
   ]
  },
  {
   "cell_type": "code",
   "execution_count": 23,
   "id": "33b1c625",
   "metadata": {},
   "outputs": [
    {
     "data": {
      "text/plain": [
       "[(1, 'Pankaj', 'Data Science', 78),\n",
       " (4, 'Pankit', 'Data Science', 78),\n",
       " (2, 'Neeraj', 'Python', 56),\n",
       " (3, 'Puneet', 'Database', 101)]"
      ]
     },
     "execution_count": 23,
     "metadata": {},
     "output_type": "execute_result"
    }
   ],
   "source": [
    "sql=\"select student.id, student.name, course.courseName, course.CourseID from COURSE LEFT JOIN student on course.CourseID=student.CourseID \"\n",
    "cur.execute(sql).fetchall()\n"
   ]
  },
  {
   "cell_type": "markdown",
   "id": "1b343617",
   "metadata": {},
   "source": [
    "## Right Join and Outer join in not available in sqlite3"
   ]
  },
  {
   "cell_type": "markdown",
   "id": "d04ddabc",
   "metadata": {},
   "source": [
    "****************"
   ]
  },
  {
   "cell_type": "code",
   "execution_count": 4,
   "id": "ccf91d10",
   "metadata": {},
   "outputs": [],
   "source": [
    "# import sqlite3 library\n",
    "import sqlite3"
   ]
  },
  {
   "cell_type": "code",
   "execution_count": null,
   "id": "c6f9f84e",
   "metadata": {},
   "outputs": [],
   "source": []
  }
 ],
 "metadata": {
  "kernelspec": {
   "display_name": "Python 3 (ipykernel)",
   "language": "python",
   "name": "python3"
  },
  "language_info": {
   "codemirror_mode": {
    "name": "ipython",
    "version": 3
   },
   "file_extension": ".py",
   "mimetype": "text/x-python",
   "name": "python",
   "nbconvert_exporter": "python",
   "pygments_lexer": "ipython3",
   "version": "3.9.13"
  }
 },
 "nbformat": 4,
 "nbformat_minor": 5
}
