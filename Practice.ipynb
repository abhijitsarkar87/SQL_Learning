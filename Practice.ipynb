{
 "cells": [
  {
   "cell_type": "code",
   "execution_count": 1,
   "id": "1d38c6e0",
   "metadata": {},
   "outputs": [
    {
     "name": "stdout",
     "output_type": "stream",
     "text": [
      "Database Created\n"
     ]
    }
   ],
   "source": [
    "# import sqlite3 library\n",
    "import sqlite3\n",
    "\n",
    "# by using library create reference object to connect with database\n",
    "db=sqlite3.connect(\"SchoolDatabase.db\")\n",
    "\n",
    "# create cursor object using reference object\n",
    "cur=db.cursor()\n",
    "\n",
    "print(\"Database Created\")"
   ]
  },
  {
   "cell_type": "code",
   "execution_count": 2,
   "id": "a63432b7",
   "metadata": {},
   "outputs": [
    {
     "ename": "OperationalError",
     "evalue": "table School already exists",
     "output_type": "error",
     "traceback": [
      "\u001b[1;31m---------------------------------------------------------------------------\u001b[0m",
      "\u001b[1;31mOperationalError\u001b[0m                          Traceback (most recent call last)",
      "\u001b[1;32m~\\AppData\\Local\\Temp\\ipykernel_16064\\2002683812.py\u001b[0m in \u001b[0;36m<module>\u001b[1;34m\u001b[0m\n\u001b[0;32m      1\u001b[0m \u001b[1;31m# create table\u001b[0m\u001b[1;33m\u001b[0m\u001b[1;33m\u001b[0m\u001b[0m\n\u001b[0;32m      2\u001b[0m \u001b[1;33m\u001b[0m\u001b[0m\n\u001b[1;32m----> 3\u001b[1;33m \u001b[0mcur\u001b[0m\u001b[1;33m.\u001b[0m\u001b[0mexecute\u001b[0m\u001b[1;33m(\u001b[0m\u001b[1;34m\"create table School(studentID int primary key, StudentName varchar(30), studentAddress text, studentDOJ date)\"\u001b[0m\u001b[1;33m)\u001b[0m\u001b[1;33m\u001b[0m\u001b[1;33m\u001b[0m\u001b[0m\n\u001b[0m",
      "\u001b[1;31mOperationalError\u001b[0m: table School already exists"
     ]
    }
   ],
   "source": [
    "# create table\n",
    "\n",
    "cur.execute(\"create table School(studentID int primary key, StudentName varchar(30), studentAddress text, studentDOJ date)\")"
   ]
  },
  {
   "cell_type": "code",
   "execution_count": 5,
   "id": "c03f87d2",
   "metadata": {},
   "outputs": [
    {
     "data": {
      "text/plain": [
       "<sqlite3.Cursor at 0x1d51a72a570>"
      ]
     },
     "execution_count": 5,
     "metadata": {},
     "output_type": "execute_result"
    }
   ],
   "source": [
    "# create table fee\n",
    "cur.execute(\"create table Course(subject primary key, subjectCode unique)\")"
   ]
  },
  {
   "cell_type": "code",
   "execution_count": 6,
   "id": "d741950d",
   "metadata": {},
   "outputs": [
    {
     "name": "stdout",
     "output_type": "stream",
     "text": [
      "5 Rows Inserted\n"
     ]
    }
   ],
   "source": [
    "sql= \"insert into School values(1,'Ankit','MP',2012-06-03),(2,'Anupam','MF',2011-06-05),(3,'Avirup','MH',2010-09-02),(4,'Anu','NH',2021-08-07),(5,'Amrit','NJ',2022-02-04)\"\n",
    "\n",
    "# insert values into School\n",
    "cur.execute(sql)\n",
    "\n",
    "# saving data\n",
    "db.commit()\n",
    "print(cur.rowcount,\"Rows Inserted\")"
   ]
  },
  {
   "cell_type": "markdown",
   "id": "f488ec0b",
   "metadata": {},
   "source": [
    "## Select "
   ]
  },
  {
   "cell_type": "code",
   "execution_count": 10,
   "id": "0546e587",
   "metadata": {},
   "outputs": [],
   "source": [
    "sql=\"select * from School\"\n",
    "\n",
    "sql2=\"select StudentName, studentDOJ from school\"\n",
    "sql3=\"select StudentName from School\"\n",
    "sql4=\"select studentID, StudentDOJ from school\""
   ]
  },
  {
   "cell_type": "code",
   "execution_count": 11,
   "id": "73688322",
   "metadata": {},
   "outputs": [
    {
     "name": "stdout",
     "output_type": "stream",
     "text": [
      "[(1, 'Ankit', 'MP', 2003), (2, 'Anupam', 'MF', 2000), (3, 'Avirup', 'MH', 1999), (4, 'Anu', 'NH', 2006), (5, 'Amrit', 'NJ', 2016)] \n",
      "\n",
      "\n",
      "[('Ankit', 2003), ('Anupam', 2000), ('Avirup', 1999), ('Anu', 2006), ('Amrit', 2016)] \n",
      "\n",
      "\n",
      "[('Ankit',), ('Anupam',), ('Avirup',), ('Anu',), ('Amrit',)] \n",
      "\n",
      "\n",
      "[(1, 2003), (2, 2000), (3, 1999), (4, 2006), (5, 2016)] \n",
      "\n",
      "\n"
     ]
    }
   ],
   "source": [
    "print(cur.execute(sql).fetchall(),\"\\n\"*2)\n",
    "print(cur.execute(sql2).fetchall(),\"\\n\"*2)\n",
    "print(cur.execute(sql3).fetchall(),\"\\n\"*2)\n",
    "print(cur.execute(sql4).fetchall(),\"\\n\"*2)"
   ]
  },
  {
   "cell_type": "code",
   "execution_count": 3,
   "id": "940e90e7",
   "metadata": {},
   "outputs": [
    {
     "data": {
      "text/plain": [
       "[(1, 'Ankit', 'MP', 2003),\n",
       " (2, 'Anupam', 'MF', 2000),\n",
       " (3, 'Avirup', 'MH', 1999),\n",
       " (4, 'Anu', 'NH', 2006),\n",
       " (5, 'Amrit', 'NJ', 2016)]"
      ]
     },
     "execution_count": 3,
     "metadata": {},
     "output_type": "execute_result"
    }
   ],
   "source": [
    "cur.execute(\"select * from School\").fetchall()"
   ]
  },
  {
   "cell_type": "code",
   "execution_count": 4,
   "id": "650cd87b",
   "metadata": {},
   "outputs": [
    {
     "data": {
      "text/plain": [
       "[('Ankit',), ('Anupam',), ('Avirup',), ('Anu',), ('Amrit',)]"
      ]
     },
     "execution_count": 4,
     "metadata": {},
     "output_type": "execute_result"
    }
   ],
   "source": [
    "cur.execute(\"select StudentName from school\").fetchall()"
   ]
  },
  {
   "cell_type": "code",
   "execution_count": 5,
   "id": "af4d6666",
   "metadata": {},
   "outputs": [
    {
     "data": {
      "text/plain": [
       "[(1,), (2,), (3,), (4,), (5,)]"
      ]
     },
     "execution_count": 5,
     "metadata": {},
     "output_type": "execute_result"
    }
   ],
   "source": [
    "cur.execute(\"select studentID from school\").fetchall()"
   ]
  },
  {
   "cell_type": "code",
   "execution_count": 7,
   "id": "aefc1adc",
   "metadata": {},
   "outputs": [
    {
     "data": {
      "text/plain": [
       "[('Ankit',)]"
      ]
     },
     "execution_count": 7,
     "metadata": {},
     "output_type": "execute_result"
    }
   ],
   "source": [
    "sql=\"select StudentName from school where studentAddress=='MP'\"\n",
    "\n",
    "cur.execute(sql).fetchall()"
   ]
  },
  {
   "cell_type": "code",
   "execution_count": 8,
   "id": "a07c2cf0",
   "metadata": {},
   "outputs": [
    {
     "data": {
      "text/plain": [
       "[('Amrit',)]"
      ]
     },
     "execution_count": 8,
     "metadata": {},
     "output_type": "execute_result"
    }
   ],
   "source": [
    "sql=\"select StudentName from school where studentDOJ>2006\"\n",
    "cur.execute(sql).fetchall()"
   ]
  },
  {
   "cell_type": "code",
   "execution_count": 10,
   "id": "c720a6ea",
   "metadata": {},
   "outputs": [
    {
     "data": {
      "text/plain": [
       "[('Amrit',)]"
      ]
     },
     "execution_count": 10,
     "metadata": {},
     "output_type": "execute_result"
    }
   ],
   "source": [
    "sql=\"select StudentName from school where studentName like '__r%'\"\n",
    "cur.execute(sql).fetchall()"
   ]
  },
  {
   "cell_type": "code",
   "execution_count": 11,
   "id": "3a812d0e",
   "metadata": {},
   "outputs": [
    {
     "data": {
      "text/plain": [
       "[('Anu',)]"
      ]
     },
     "execution_count": 11,
     "metadata": {},
     "output_type": "execute_result"
    }
   ],
   "source": [
    "sql=\"select studentName from school where studentName like '__u'\"\n",
    "cur.execute(sql).fetchall()"
   ]
  },
  {
   "cell_type": "code",
   "execution_count": 13,
   "id": "4e5f0e7c",
   "metadata": {},
   "outputs": [
    {
     "data": {
      "text/plain": [
       "[('Anu',)]"
      ]
     },
     "execution_count": 13,
     "metadata": {},
     "output_type": "execute_result"
    }
   ],
   "source": [
    "sql=\"select studentName from school where studentName like '%n_'\"\n",
    "cur.execute(sql).fetchall()"
   ]
  },
  {
   "cell_type": "code",
   "execution_count": 15,
   "id": "39e9b4ca",
   "metadata": {},
   "outputs": [
    {
     "data": {
      "text/plain": [
       "[('Anupam',), ('Avirup',), ('Anu',), ('Amrit',)]"
      ]
     },
     "execution_count": 15,
     "metadata": {},
     "output_type": "execute_result"
    }
   ],
   "source": [
    "sql=\"select studentName from school where StudentID between 2 and 5 \"\n",
    "cur.execute(sql).fetchall()"
   ]
  },
  {
   "cell_type": "code",
   "execution_count": 17,
   "id": "7e106bc9",
   "metadata": {},
   "outputs": [
    {
     "data": {
      "text/plain": [
       "[('Anupam',)]"
      ]
     },
     "execution_count": 17,
     "metadata": {},
     "output_type": "execute_result"
    }
   ],
   "source": [
    "sql=\"select studentName from school where StudentID==2 or StudentName='Abhijit'\"\n",
    "cur.execute(sql).fetchall()"
   ]
  },
  {
   "cell_type": "code",
   "execution_count": 19,
   "id": "1cfc9e30",
   "metadata": {},
   "outputs": [
    {
     "data": {
      "text/plain": [
       "[('Anupam',)]"
      ]
     },
     "execution_count": 19,
     "metadata": {},
     "output_type": "execute_result"
    }
   ],
   "source": [
    "sql=\"select studentName from school where StudentID==2 and StudentName='Anupam'\"\n",
    "cur.execute(sql).fetchall()"
   ]
  },
  {
   "cell_type": "code",
   "execution_count": 23,
   "id": "f73b614d",
   "metadata": {},
   "outputs": [
    {
     "data": {
      "text/plain": [
       "[('Amrit',), ('Anu',), ('Ankit',), ('Anupam',), ('Avirup',)]"
      ]
     },
     "execution_count": 23,
     "metadata": {},
     "output_type": "execute_result"
    }
   ],
   "source": [
    "sql=\"select studentName from school order by studentDOJ desc\"\n",
    "cur.execute(sql).fetchall()"
   ]
  },
  {
   "cell_type": "code",
   "execution_count": 24,
   "id": "a7623f11",
   "metadata": {},
   "outputs": [
    {
     "data": {
      "text/plain": [
       "[('Avirup',), ('Anupam',), ('Anu',), ('Ankit',), ('Amrit',)]"
      ]
     },
     "execution_count": 24,
     "metadata": {},
     "output_type": "execute_result"
    }
   ],
   "source": [
    "sql=\"select studentName from school order by StudentName desc\"\n",
    "cur.execute(sql).fetchall()"
   ]
  },
  {
   "cell_type": "code",
   "execution_count": 26,
   "id": "fb37f5db",
   "metadata": {},
   "outputs": [
    {
     "data": {
      "text/plain": [
       "[(1999, 2016, 5, 15, 3.0)]"
      ]
     },
     "execution_count": 26,
     "metadata": {},
     "output_type": "execute_result"
    }
   ],
   "source": [
    "sql=\"select min(studentDOJ), max(studentDOJ),count(studentDOJ), sum(studentID), avg(studentID) from school\"\n",
    "cur.execute(sql).fetchall()"
   ]
  },
  {
   "cell_type": "code",
   "execution_count": 38,
   "id": "1934e526",
   "metadata": {},
   "outputs": [],
   "source": [
    "cur.execute(\"drop table Marks\")\n",
    "db.commit()"
   ]
  },
  {
   "cell_type": "code",
   "execution_count": 39,
   "id": "d69f708b",
   "metadata": {},
   "outputs": [
    {
     "data": {
      "text/plain": [
       "<sqlite3.Cursor at 0x26e8d2cb420>"
      ]
     },
     "execution_count": 39,
     "metadata": {},
     "output_type": "execute_result"
    }
   ],
   "source": [
    "sql='create table Marks(id int primary key, name text, age int, address text, marks real)'\n",
    "cur.execute(sql)"
   ]
  },
  {
   "cell_type": "code",
   "execution_count": null,
   "id": "e4ab3690",
   "metadata": {},
   "outputs": [],
   "source": []
  }
 ],
 "metadata": {
  "kernelspec": {
   "display_name": "Python 3 (ipykernel)",
   "language": "python",
   "name": "python3"
  },
  "language_info": {
   "codemirror_mode": {
    "name": "ipython",
    "version": 3
   },
   "file_extension": ".py",
   "mimetype": "text/x-python",
   "name": "python",
   "nbconvert_exporter": "python",
   "pygments_lexer": "ipython3",
   "version": "3.9.13"
  }
 },
 "nbformat": 4,
 "nbformat_minor": 5
}
